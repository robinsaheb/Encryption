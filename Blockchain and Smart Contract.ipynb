{
 "cells": [
  {
   "cell_type": "code",
   "execution_count": 1,
   "metadata": {},
   "outputs": [],
   "source": [
    "from web3 import Web3\n",
    "from hashlib import sha256\n",
    "import random"
   ]
  },
  {
   "cell_type": "code",
   "execution_count": 2,
   "metadata": {},
   "outputs": [],
   "source": [
    "infura_url = \"https://mainnet.infura.io/v3/abc73787a7334704974b88564ac6faa2\"\n",
    "web3 = Web3(Web3.HTTPProvider(infura_url))"
   ]
  },
  {
   "cell_type": "code",
   "execution_count": 3,
   "metadata": {},
   "outputs": [
    {
     "data": {
      "text/plain": [
       "11458774"
      ]
     },
     "execution_count": 3,
     "metadata": {},
     "output_type": "execute_result"
    }
   ],
   "source": [
    "t = web3.eth.blockNumber\n",
    "t"
   ]
  },
  {
   "cell_type": "code",
   "execution_count": 4,
   "metadata": {
    "scrolled": true
   },
   "outputs": [
    {
     "data": {
      "text/plain": [
       "AttributeDict({'difficulty': 3585029957918696,\n",
       " 'extraData': HexBytes('0x6574682d70726f2d687a682d74303032'),\n",
       " 'gasLimit': 12481189,\n",
       " 'gasUsed': 12472919,\n",
       " 'hash': HexBytes('0x89fbc7924b30f6570d58a615835fb03d1cdf6e95774d58a938b50e50db2e7026'),\n",
       " 'logsBloom': HexBytes('0x10a26055c5c64bd30d82af97807b88395288b0065891221e881949c8eefb1595105e1132a1087d9a420a8b812384d5b0cfc4515a094325244153d9b38164602810d2139940049b3dd92a9f2814a0646a1c31844d024934ba1df343618640e630d9a0c48432006440456dc01c03148e2060108cd5454a1d86073067d094387f02f9a38974c449d40660c65c3a2a9c0c93c0071e81ede0ed6d6632c5fcb1588e36f3b3e8467278297a06a782863c2994f48030b034654f004e0c66d0b1672a5f091d31280bb0980e433295d022006e144802d012035d48529092032a0e804c3d31449c6042d21c02696030865193300627ecd4020ceb560d54a4200987487e195f'),\n",
       " 'miner': '0x5A0b54D5dc17e0AadC383d2db43B0a0D3E029c4c',\n",
       " 'mixHash': HexBytes('0x0c58e75681f6ecd241c0255e6a3878a2711d2c40006de5e63c16ecfb7270e6ea'),\n",
       " 'nonce': HexBytes('0x2124ed2e08bd393d'),\n",
       " 'number': 11458774,\n",
       " 'parentHash': HexBytes('0x7bdf496687fc27859e490cb4fca69698161c97c02b41052260ed8a6cec50ccae'),\n",
       " 'receiptsRoot': HexBytes('0x735330c663eb79e9ac8805018bdbe602934dd33340387c181acdb557cc309b77'),\n",
       " 'sha3Uncles': HexBytes('0x1dcc4de8dec75d7aab85b567b6ccd41ad312451b948a7413f0a142fd40d49347'),\n",
       " 'size': 40181,\n",
       " 'stateRoot': HexBytes('0xe597c752d1febafa758b69bbb3c0b1c939842f019885284eb691f96153770016'),\n",
       " 'timestamp': 1608050213,\n",
       " 'totalDifficulty': 19421842774879281978795,\n",
       " 'transactions': [HexBytes('0x7bd482edfa020c5b391512211726cec738a47258c34471a305fb2f69920403f6'),\n",
       "  HexBytes('0x2921829f6b530ab58b73162a915cd09db18622a06182dda4bce31534fc3cd120'),\n",
       "  HexBytes('0xb44ef8c0b16258e55fb058c20e53df6ff118a0af2e7f6e2826ee23a5dbe914b3'),\n",
       "  HexBytes('0xe372e41c5e96d8dbe3f756e64e7c3983488f817e1618f5b10dcc2e514b478470'),\n",
       "  HexBytes('0x12b485d107e6c18bc95c9763bd7ec8bc36d9e89ffaf77bf91b174e7f022a3a7e'),\n",
       "  HexBytes('0xabf826f0a2f33d6e15482df100150663c7e9aee267d4ce1c2593ffe6cfea6811'),\n",
       "  HexBytes('0x27c4336bbe380ddb243b63aed4d6e8ea6cae6a564e0858bfc345bc5e6e45b846'),\n",
       "  HexBytes('0xe87dc1f8a20663624335fc3bf3eb9d432acdaedb4b726c45d4775b5d0fa78c99'),\n",
       "  HexBytes('0x93a268be047a59fd6f1c0baab00972310e0480979be2358311bf26128ae6aded'),\n",
       "  HexBytes('0x4787948057fde734c3f4ff15d888a7b4253cde76e6a18a57be25cd85a7df1893'),\n",
       "  HexBytes('0x8265d7ef0ce39549c721b72888965e13d63dc06b57c81605e6494a8d8a04e567'),\n",
       "  HexBytes('0xc5d7db7e404767f89d5195f96f91beb5d59f6363ff4e632d9fff66def244581a'),\n",
       "  HexBytes('0x861fb4bfb4051140537104def1237483686d5fa5ba409090f40886a7b2aaae29'),\n",
       "  HexBytes('0x9bb9543b34743284c36301f6fc7074fa25dc585b554ec4e79a0d242f793d4545'),\n",
       "  HexBytes('0x034c511d694d3e15e47431dbb24b209285199f043926419411f50cd63a6fc549'),\n",
       "  HexBytes('0xb6ba942e017d490a711ddd79233b72f1112bd60143802c0d3f5cdae573eb2687'),\n",
       "  HexBytes('0x1f6406a93e51992571d6f7c0515a5de5023baecd7e2cc0b19e652d69824aeee0'),\n",
       "  HexBytes('0xd41eb98f648520884b97d9fcaa6a1ba68edbd1244967a53a33cd9e77d1e04744'),\n",
       "  HexBytes('0x07ab4041ebccf1c08a946bd2ba5d2e3caf21a2f68b08375bfbc7e95c5db82573'),\n",
       "  HexBytes('0x9b4d07451fb2252116f68debd940e62fe79a2dc22109dc019276535c7d9f413d'),\n",
       "  HexBytes('0x4ae366d0fc88342c167fdd6f3af84862b3250609384b9930db423bbfa7807c00'),\n",
       "  HexBytes('0x044fe22126cccd40ccfca2cdf91621ce8ba5c3a733025bdd54af0d9b50c3ba78'),\n",
       "  HexBytes('0x999aa4b929d049259766a2e892d8039437db27a508393af641f49cbf4030499f'),\n",
       "  HexBytes('0xa7609c4d3b96e80120ecd5ab965f716c96ea4f432c3ad0ebacf9517d17765306'),\n",
       "  HexBytes('0x85ba32875d02496e5ebab95ba1294673aa1cb3dc5fe6f30fce260bd9eefbd1fc'),\n",
       "  HexBytes('0x0ccab532ecc9846df69ebac77f0b42b4f49a5af959754162745f747369fb64c8'),\n",
       "  HexBytes('0xa9e5398e71661bb00bb6a8b6fd9d04ec7626c9df631829c642467b3dd5240b0b'),\n",
       "  HexBytes('0xed9f917e9f7730e5867be5ebce2ce93a30b1a66dcff676d8ed7bc040b0d476a2'),\n",
       "  HexBytes('0x4a460d234e38d84316b0a7c0c351c2743970964aadbd9b88d1688ea3289007dd'),\n",
       "  HexBytes('0xc0b184f55672b86206ab98425ed5df5e2db875bbd5df40012fcee626c139c518'),\n",
       "  HexBytes('0x7e765c8c5c5a8e861ab00635511e929e996f49a319f8987f58fc361deb3323c7'),\n",
       "  HexBytes('0x65a9110a448b88645d42411d49fc7a4b0c49e3008cfa5b5e78f07af9f1a76d32'),\n",
       "  HexBytes('0x3daf5fb05b9970597bdf2a75eed31b964cd935a67c7c38c7cbd70ee36b0d064b'),\n",
       "  HexBytes('0x4d90bbed61c6bec71090c5a233591567f9cff070652cb6bcdd0425f8bf3578c3'),\n",
       "  HexBytes('0x30c316a265667e888aca744393218fa334412d929b9294c00b7a4fd5f7a8014a'),\n",
       "  HexBytes('0xd82f861ab2252a72e659c02007110295d62bead6bf9dbb473299c2936b6a422d'),\n",
       "  HexBytes('0x5d2b770a33a28244bcfc458d8737edabe46005fb3f987cc5fad7428c1a0be220'),\n",
       "  HexBytes('0x54a3a85f2fd665df57998b1d667136fe3c1c2a01e98023f1806fd4ac12f12e17'),\n",
       "  HexBytes('0x7de126c63b8e97872ba869f9d6182c781eb4699dce56e1bf701773e06826c40e'),\n",
       "  HexBytes('0x9aa68ae1543ae090c5ad4fe0530a2cc9833808a8a639f4cfb20bbb2bd3ae686f'),\n",
       "  HexBytes('0xe08f8722076bddda3613992a747305653c930792c2f022489bb9d1ed8fd3bc3a'),\n",
       "  HexBytes('0x7cfc6813025eaae18d487dafdba6f99c6510b4259f212d7116ce6a26f17fbd24'),\n",
       "  HexBytes('0x3f058c225417b47d6ee20b095672e73fe673c66059bd1fc84baee1d01f414a7f'),\n",
       "  HexBytes('0xc608985f330b78689891b7a58bc0d2abf0e4147ec4019cde1a9a89cf1ecc3bb1'),\n",
       "  HexBytes('0x1051749de52e31e4a04491c4110aa62454cd483344d9f48a9119a2b4e0783762'),\n",
       "  HexBytes('0xaf2d68d9b88eabd2dcc1ba99ba1f9971dfc1a40db94d7cb01fbf5a4897bbadb8'),\n",
       "  HexBytes('0x669ea688c64781c46bd0247c12f7420f95099d0ab1d6d6d36a194b828426b2fc'),\n",
       "  HexBytes('0xb17bae6f85e9d6985d45ea30bc8d78eecb612572ad01bef081c0ecf0b38d1653'),\n",
       "  HexBytes('0x0e2f3af1aa80fb738f9a13706d5f276659c58169118449364ee57cb9eea903f2'),\n",
       "  HexBytes('0x79e759ffe190eae2966aa6d909f76caabad2d2972a3a71f1ccdcb01991a59e89'),\n",
       "  HexBytes('0x608c8d12a95b76b8d08ca34e58a599daf0e95aec9fe4a8eb9c69bcaefe3fb1a3'),\n",
       "  HexBytes('0x286459a8c730188573326bae2b67e4884b1e611d5a8e2fb998609736e9c1f561'),\n",
       "  HexBytes('0x4e1a5be8515a2dec814679f312e4b9fcc5d0884c141e27c8474d78049701e5a0'),\n",
       "  HexBytes('0x33662f9da6ec65170efb59e0a35d7701748f86c959248349f6ac9fde29967e40'),\n",
       "  HexBytes('0x0dfbe3d37d7d0c66c2df194492a0c6d20e26ca106d024824944f330d973b0834'),\n",
       "  HexBytes('0xff226344dc27f68bc3a3d675d6f65c76f6300e02da1ec4032aa04de00dbe677b'),\n",
       "  HexBytes('0x2ac7c46c5bdc22d618e4139ec761563239af5e9b1244cfd9e180663bbb3a35e8'),\n",
       "  HexBytes('0xc6af3b61d3df4d57747caf7056c0cf22dd77d31e1e9aa1cd01926ec71090f5b1'),\n",
       "  HexBytes('0x72ba4b410347e7809a75883d42c8261367de9503c5ce5bf8d283c136252b9fcb'),\n",
       "  HexBytes('0xc5c5b14c62676fbc75ebed42895552d7521942b6e3cd76ee806e161c500c28fb'),\n",
       "  HexBytes('0xb750faf12d89e616d5de5bce3002a9163c3c82228a14b604ab2e5e9291f6b28a'),\n",
       "  HexBytes('0xdd3a7db698113aea2cf1b8b0c8c7ff6e018e0d2f745af6746acd176e76907f0c'),\n",
       "  HexBytes('0xbcddd1709f7e1d5b1a2b6c3746fd52dad1e8c315606044cdb14e3b8a5ea2e606'),\n",
       "  HexBytes('0x4f3d3ab4e502fe131dc67d37fbc0902ae706895b1a30093dcce59506af29f4a1'),\n",
       "  HexBytes('0x8a25fd38a728722c824340b966ce3701a5917cd4a41b9fbae87e1b5a85cb1bce'),\n",
       "  HexBytes('0xe064df3bb99247aa50a31311ac4188b2f9d21f1992fc729c0a2bb822c5dae3f7'),\n",
       "  HexBytes('0xcfe5fcff9ac9301c25870e638397d75b21f782565c95f1f7f64644ee5eb2bbb3'),\n",
       "  HexBytes('0x7452099f52cb3a85478ce1ecfa24e977b1dd09b1e95d47a1e5624bf4849d9d4e'),\n",
       "  HexBytes('0x8078930b598c32d9843c141b49e02600ed883b4b120153013dc98a43d4ad8993'),\n",
       "  HexBytes('0x724146f7a473803593eb73d66b7c0da99a31c0730b601be75e13c5c0347f2cee'),\n",
       "  HexBytes('0x2e6fa9639297900af3282ae5571bb4240816a5ff4d7f5d8dc36d977c35fbd6ed'),\n",
       "  HexBytes('0xf96aed25ea8e41c5ad921548461ca6c93111797f04962423d9ad54aad74473c5'),\n",
       "  HexBytes('0x9fdb3156e19795d9c68db084165b937ab9f049536351b7e95b668a1186150590'),\n",
       "  HexBytes('0x6044b8d5a2c949c3241fa1332b26d8b730a4e78d0f40feb44befb42bf97feee8'),\n",
       "  HexBytes('0xec705fed193b7a0ac74d02d3196fbd2feca2b54af31cbc24f2b0e9a6c5c973ca'),\n",
       "  HexBytes('0x02d39e3532c91c03d2ae662c3b4bb6650cf6428ca8fbf6aaa2eb4d3493d1ba24'),\n",
       "  HexBytes('0xf06011743678f0d5b1472df7ef472090f7383c1bb1a5569c53382ee2d552a9be'),\n",
       "  HexBytes('0xe1f9d6049f24b370e6a02a58f808be78b554067742b75debb83ec04834b9c4fa'),\n",
       "  HexBytes('0xc52260cf6fda91d6f11bc336f5e998b2555affd48cf8846e654d58aae662c7e9'),\n",
       "  HexBytes('0xfe959839e3ae6e54445117acce6fccd1c5452e21813d8ded14a48a6a8ed99b1a'),\n",
       "  HexBytes('0xe15d2b610cda4f20c6d0d841ee8b62eee08a21560d70cb94648df35e0e5ad9f7'),\n",
       "  HexBytes('0x8def392fc3a3ee27fd98e59e5cbc9bd48a76b3e1b428aa0e13548d7129bbf701'),\n",
       "  HexBytes('0x3d1a131a38723e692beb17aba0b8492a3b75962dcf02ee09f6ac3c38d0494e45'),\n",
       "  HexBytes('0x562a6f8a379430146aa65025497f394b31922aad4adc63c281fbeafacbd7184f'),\n",
       "  HexBytes('0x5720c7a960b6f07d2c37c39b586fd2c48924a6bedf761675f1418ed2b52fa7ab'),\n",
       "  HexBytes('0x7a18796643176a1ee319b4ad6ddb44dce8f86a3c4216de247e441072220ced4a'),\n",
       "  HexBytes('0x9f6b5ab11e838d38007b6b7f70b6f7d29cdbed99760b138d80619ec8dbde71e0'),\n",
       "  HexBytes('0x2f0bbe27cef2cf9d8893ca5199bc1c704e39f9da305b13d2ec07ce440529fffc'),\n",
       "  HexBytes('0x58c3ae6d35c7d45a32b1ff4ef1fb7d1c58e2fd24bf73aee5d6dd95cd4c0c0c6e'),\n",
       "  HexBytes('0x604fd97b08539cd84166342ab438104331e4bf900944311d505d56bff29d5130'),\n",
       "  HexBytes('0x403a06528ffea233ccf020bf1b58b60a4571c9b6e06905d56e3485cc61420fd6'),\n",
       "  HexBytes('0x270b5ef469c14dc450f9ed6efd2a93f29ae3f6463735df5c4eb5c3f4c8b5a687'),\n",
       "  HexBytes('0x59dfd763fd722c97c33f6502740ada12e2811b6d7acf88727d0bf68af18df2fb'),\n",
       "  HexBytes('0x23416ff7b0f01db8ca2b4e235c73c39b33d6eee269fabea54be25c8f6e874cf5'),\n",
       "  HexBytes('0x0a124cb8ccaf01ea318ae12d2657ed91a59b915be8387809da71a94c0670f38a'),\n",
       "  HexBytes('0xd5e518410718ca013c45717223ad40cad9433df49bf15cd6994a3b251737e9b4'),\n",
       "  HexBytes('0xad30fff66ccfe758a8bdad6d433650b64f8b4e55540dacdc86f9728b0b60ef39'),\n",
       "  HexBytes('0x5356bb90c9a41f5e084b75742b02a731a285bc694320fbe6421b6a572d11962f'),\n",
       "  HexBytes('0x2405268a85df1753c9afc50bfc51e720421da7c15630cb1feabf3a6db156f807'),\n",
       "  HexBytes('0x23c6f30832b28bd2f2bc44db8d777bdc0967e707860f91283ed1f7319f48bc34'),\n",
       "  HexBytes('0x6065e334563b6cca46d3fd1cbde5461d44dd542303e68dd62615a0757e0ef60a'),\n",
       "  HexBytes('0xea11bd75618e9a36ebcd4dc7d578e800143bbd5acfe22fb837087aeccd74c0a0'),\n",
       "  HexBytes('0x8a965ef44b7968fe236868e17799641fe8ae0a3a945cd7fa81922b12f51d3261'),\n",
       "  HexBytes('0x72026ff19761fe65f09cf817747c98f8ec00c23dd3096de36597a5830a17844c'),\n",
       "  HexBytes('0x3231a5ec8f74a65f21e09e6c58d8840e19d9bffdaf5081953fa13f4a928ee300'),\n",
       "  HexBytes('0xac22b4aa4b922fbb4de1d72d22debc42d41ab4283b494200e91eb94ee5daed8e'),\n",
       "  HexBytes('0xa9a7c559abad251991048668f5420fde304ea77d8153c9578cf8490afba05a97'),\n",
       "  HexBytes('0xeb99c7045306ce71da807b3060a4be3f1ed016a80f0c713355b1d3afb4ba9602'),\n",
       "  HexBytes('0x6a9a7a69727871b0f13c7806af54f6093cc6bf3fecb3fe43f383f0105f7585d9'),\n",
       "  HexBytes('0x4eaefb16663f872b3f0701299d7cba87271cc2072ba3aeb940d3cd1ee8a8d9ba'),\n",
       "  HexBytes('0x3daadff0852d92025f3748c3363d5d2b3796ed92a1aff51baed5fae0cfad2d84'),\n",
       "  HexBytes('0x9d550b71b0b8889a28d0c8b9bcc60b69663ccf113c567aea9229705bee93eab0'),\n",
       "  HexBytes('0xf7390888379689b0efe8a8d6a394b16a70443de310959acf09ebe556fea47c60'),\n",
       "  HexBytes('0x6e7022b228167a8592737666c9e00e8034a5455c6d3f5c774910239632ed8199'),\n",
       "  HexBytes('0x4b8433e8b0863170f3616fd03d4e6f2a068ee447d879c9cfd012a789d8054c8a'),\n",
       "  HexBytes('0x92c7ade33a8204a42e9c7cbb98361c103df61221fc2b0460bb94d83d9b857de0'),\n",
       "  HexBytes('0x34092a3a3f9650b7db0b00517d639de2e83bf6c660080a757259a48dd96f63d2'),\n",
       "  HexBytes('0x04331956b3fc6c7d03324bfe445e9324c74ff79d43afeb05babfc5fa66c130ab'),\n",
       "  HexBytes('0xee13fea5418a7b104aa0a0428efa8722e42adae9f763abe3808ba903c341a2ab'),\n",
       "  HexBytes('0xdaf813b626c4151e01db2d16e4d41d5dae3e768a2955eca16626dc2c9a48dd0d'),\n",
       "  HexBytes('0x54ed3525aff7d34ba9d46096a860322c0f9df516d0fed411a359cb76a8ff53d6'),\n",
       "  HexBytes('0xa8dac1976eeee640b6dcf9aebe3dc1161f0dc46bd915482430d14fcadf9d16d2'),\n",
       "  HexBytes('0x6add220f6254c58fc1086e6378c3603bb507d93c4acdd0dcd9662ef7e52571aa'),\n",
       "  HexBytes('0x863bd8d0b9e04b3396e81367d9f3cf71601a69b413e23b08805a9af4cee6db8f'),\n",
       "  HexBytes('0xdc5f8cd73e09543ca4ce1ca35fa0b5e356440ff95dee227c668bf72f0730b3c7'),\n",
       "  HexBytes('0x8b404b26caf93301bb233a1512a503dc0a7f22290455fdaa9385d33415822d6b'),\n",
       "  HexBytes('0x982fa13719f4c950b50ec623b02bcd8f68e8035ead73eee133bdf781440979dc'),\n",
       "  HexBytes('0x6b4b652fe09a2584056ed2f208d04d9fc04e5d411781311cb1f360f77d177c84'),\n",
       "  HexBytes('0xc197ef4e64ec2ffcfbb0fd2a9ff28e6a491b9e8746c6b99e015d40665e696cb8'),\n",
       "  HexBytes('0xc41f5b7f50439a04f433a4a789a526a0642a37d900d92c2dada007461254f42d'),\n",
       "  HexBytes('0xd5cef4db5811e964857e4ac22c7698d93351792256546296de44f55eeef43484'),\n",
       "  HexBytes('0x7750cd6b43ac7823610e2e3e896a797fd1070852f75f752994ab9176c4f150b0'),\n",
       "  HexBytes('0xa9176c49dc60ec014e39151716492843e0cf04c193a8d7a8c18dd3399f5d92d6'),\n",
       "  HexBytes('0xa9ee779aa4421c41d7db5455c20eae35b3f00e20af138494b3a6a96802ea34b9'),\n",
       "  HexBytes('0x75cdb327d07de5a20712cd3aab6f5df5bcf7b2cebda350ff94197ba294361806'),\n",
       "  HexBytes('0xd2bb9598b2cf3576c577154310b6034c69f6dc9f8e11fc296ecb56873313ba7a'),\n",
       "  HexBytes('0x8d439855a89ebcdfb15fb07a649063474e584f58178b24456d9a4fe12cb4bd4d'),\n",
       "  HexBytes('0x27f80e10029579237d2d0f46df4b47ecae2f42506cd6e9a3f83679c85e3c0b12'),\n",
       "  HexBytes('0xa64df0ff0aef6a02743e96c9849559bcfb9e56820822cdfc2b08a940cb7cae10'),\n",
       "  HexBytes('0x470d1e3b98aeb35b2d08aad301aea38b7ce1294f04b34f2aba1cf568b0c92baf'),\n",
       "  HexBytes('0x5935b8bd257e548f44f322b8798d89e6313a713ad4f4fa6553514f2f63a80ceb'),\n",
       "  HexBytes('0x59749ad36ebf066485681a2e87f6de51252a49e9b2bc5859eba3d8b04e1de6c6'),\n",
       "  HexBytes('0x6bc2bdfbe66c4fdc9f9c5fd559a11f57c4b1151c01567572f7cbc9600cc9fa1f'),\n",
       "  HexBytes('0x0c8cd4130ee33d7e456b7da4b7cbbce91374e4b30beffe7a43fda53fdd284dd7'),\n",
       "  HexBytes('0x139992cfee42c73f6f3894b955bae29f1ddf8abbc98d568ef094f98e9462d659'),\n",
       "  HexBytes('0xa4840e27813843c632146056fc0ff265be8e43b65f46c95c56edc9fed7d20772')],\n",
       " 'transactionsRoot': HexBytes('0xad83112d3cf0661259def045254d94c404e6827ae38a9e05969910fd98a4c717'),\n",
       " 'uncles': []})"
      ]
     },
     "execution_count": 4,
     "metadata": {},
     "output_type": "execute_result"
    }
   ],
   "source": [
    "web3.eth.getBlock(t)"
   ]
  },
  {
   "cell_type": "markdown",
   "metadata": {},
   "source": [
    "### Generate Random Numerical Values using Hash"
   ]
  },
  {
   "cell_type": "code",
   "execution_count": 5,
   "metadata": {},
   "outputs": [],
   "source": [
    "#key = \n",
    "def set_valued_hashfunc(x, n, k):\n",
    "    rng = random.Random(sha256(x).digest())\n",
    "    return set(rng.sample(range(n), k))"
   ]
  },
  {
   "cell_type": "code",
   "execution_count": 6,
   "metadata": {},
   "outputs": [],
   "source": [
    "key = b'~s]m\\xa8\\xd6\\xca8\\x13\\xce\\x96\\xca\\x8e\\xa7\\x105\\xd5\\x80\\xb4\\x1fj\\xd5\\x0e5<AH\\x8a\\nU)\\x18'"
   ]
  },
  {
   "cell_type": "code",
   "execution_count": 7,
   "metadata": {},
   "outputs": [],
   "source": [
    "hash1 = web3.eth.getBlock(t).hash\n",
    "random_element = set_valued_hashfunc(hash1, 10, 4)"
   ]
  },
  {
   "cell_type": "code",
   "execution_count": 8,
   "metadata": {},
   "outputs": [
    {
     "data": {
      "text/plain": [
       "{3: [3, 5], 4: [3, 5], 5: [3, 5], 6: [3, 5]}"
      ]
     },
     "execution_count": 8,
     "metadata": {},
     "output_type": "execute_result"
    }
   ],
   "source": [
    "chal = {}\n",
    "for i in random_element:\n",
    "    random_blocks = set_valued_hashfunc(hash1, 10, 2)\n",
    "    #print(random_blocks)\n",
    "    blocks = []\n",
    "    for t in random_blocks:\n",
    "        blocks.append(t)\n",
    "    chal[i] = blocks\n",
    "chal"
   ]
  },
  {
   "cell_type": "code",
   "execution_count": 9,
   "metadata": {},
   "outputs": [
    {
     "data": {
      "text/plain": [
       "{3, 4, 5, 6}"
      ]
     },
     "execution_count": 9,
     "metadata": {},
     "output_type": "execute_result"
    }
   ],
   "source": [
    "random_element"
   ]
  },
  {
   "cell_type": "markdown",
   "metadata": {},
   "source": [
    "### Making a Authentication"
   ]
  },
  {
   "cell_type": "code",
   "execution_count": 10,
   "metadata": {},
   "outputs": [],
   "source": [
    "name = 'File1'\n",
    "fileblock = 2 # File block for the each file"
   ]
  },
  {
   "cell_type": "code",
   "execution_count": 11,
   "metadata": {},
   "outputs": [],
   "source": [
    "# Generating a hash function\n",
    "data = name + str(fileblock)\n",
    "Authenticator = sha256(data.encode('utf-8')).digest()"
   ]
  },
  {
   "cell_type": "markdown",
   "metadata": {},
   "source": [
    "## Bilinear Mapping"
   ]
  },
  {
   "cell_type": "code",
   "execution_count": 12,
   "metadata": {},
   "outputs": [],
   "source": [
    "# Importing libaries \n",
    "#import bplib \n",
    "#G = bplib.BpGroup()"
   ]
  },
  {
   "cell_type": "markdown",
   "metadata": {},
   "source": [
    "## Smart Contract"
   ]
  },
  {
   "cell_type": "code",
   "execution_count": 13,
   "metadata": {},
   "outputs": [],
   "source": [
    "ganache_url = \"http://127.0.0.1:7545\"\n",
    "web4 = Web3(Web3.HTTPProvider(ganache_url))"
   ]
  },
  {
   "cell_type": "markdown",
   "metadata": {},
   "source": [
    "### Account Information  "
   ]
  },
  {
   "cell_type": "code",
   "execution_count": 14,
   "metadata": {},
   "outputs": [],
   "source": [
    "account_1 = \"0xba4952dD110CD68c235c4e89301011eEB806d76c\"\n",
    "account_2 = \"0x8F3274e82589074B201ae9053D2aa40929Ea257C\"\n",
    "\n",
    "private_key = \"d1f34fcbcc349bfa15ebc5c24fcadaaef38e3ac6a3702051582f8fb41bd7b393\""
   ]
  },
  {
   "cell_type": "markdown",
   "metadata": {},
   "source": [
    "### Building a Transaction"
   ]
  },
  {
   "cell_type": "code",
   "execution_count": 18,
   "metadata": {},
   "outputs": [],
   "source": [
    "# Get nouce\n",
    "nouce = web4.eth.getTransactionCount(account_1)\n",
    "\n",
    "# building a transaction\n",
    "tx = {\n",
    "    'nonce':nouce,\n",
    "    'to':account_2,\n",
    "    'value':web4.toWei(1,'ether'),\n",
    "    'gas':2000000,\n",
    "    'gasPrice':web4.toWei('50','gwei')\n",
    "}"
   ]
  },
  {
   "cell_type": "markdown",
   "metadata": {},
   "source": [
    "### Signing a Transaction"
   ]
  },
  {
   "cell_type": "code",
   "execution_count": 19,
   "metadata": {},
   "outputs": [],
   "source": [
    "signed_tx = web4.eth.account.signTransaction(tx,private_key)\n",
    "\n",
    "# Getting the hash value \n",
    "hash_tx = web4.eth.sendRawTransaction(signed_tx.rawTransaction)"
   ]
  },
  {
   "cell_type": "markdown",
   "metadata": {},
   "source": [
    "### Get Hash"
   ]
  },
  {
   "cell_type": "code",
   "execution_count": 20,
   "metadata": {},
   "outputs": [
    {
     "data": {
      "text/plain": [
       "'0xc9e1e398dbf4508f074d3e57fea2fdc42ba38b9989ddf7a883c72f07b87fde02'"
      ]
     },
     "execution_count": 20,
     "metadata": {},
     "output_type": "execute_result"
    }
   ],
   "source": [
    "transaction_hash = web4.toHex(hash_tx)\n",
    "transaction_hash"
   ]
  },
  {
   "cell_type": "markdown",
   "metadata": {},
   "source": [
    "## Writing on a Ledger"
   ]
  },
  {
   "cell_type": "markdown",
   "metadata": {},
   "source": [
    "#### We are storing the hash value into a file which will then be used to check the Auditor by the User."
   ]
  },
  {
   "cell_type": "code",
   "execution_count": null,
   "metadata": {},
   "outputs": [],
   "source": []
  }
 ],
 "metadata": {
  "kernelspec": {
   "display_name": "Python 3",
   "language": "python",
   "name": "python3"
  },
  "language_info": {
   "codemirror_mode": {
    "name": "ipython",
    "version": 3
   },
   "file_extension": ".py",
   "mimetype": "text/x-python",
   "name": "python",
   "nbconvert_exporter": "python",
   "pygments_lexer": "ipython3",
   "version": "3.7.9"
  }
 },
 "nbformat": 4,
 "nbformat_minor": 4
}
