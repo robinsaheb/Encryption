{
 "cells": [
  {
   "cell_type": "code",
   "execution_count": 18,
   "metadata": {},
   "outputs": [],
   "source": [
    "from web3 import Web3\n",
    "from hashlib import sha256\n",
    "import random"
   ]
  },
  {
   "cell_type": "code",
   "execution_count": 2,
   "metadata": {},
   "outputs": [],
   "source": [
    "infura_url = \"https://mainnet.infura.io/v3/abc73787a7334704974b88564ac6faa2\"\n",
    "web3 = Web3(Web3.HTTPProvider(infura_url))"
   ]
  },
  {
   "cell_type": "code",
   "execution_count": 6,
   "metadata": {},
   "outputs": [
    {
     "data": {
      "text/plain": [
       "11283066"
      ]
     },
     "execution_count": 6,
     "metadata": {},
     "output_type": "execute_result"
    }
   ],
   "source": [
    "t = web3.eth.blockNumber\n",
    "t"
   ]
  },
  {
   "cell_type": "code",
   "execution_count": 7,
   "metadata": {
    "scrolled": true
   },
   "outputs": [
    {
     "data": {
      "text/plain": [
       "AttributeDict({'difficulty': 3379995106106349,\n",
       " 'extraData': HexBytes('0x65746865726d696e652d65752d6e6f727468312d332d67657468'),\n",
       " 'gasLimit': 12469288,\n",
       " 'gasUsed': 12456104,\n",
       " 'hash': HexBytes('0x6e50e1a463d71356ea74fffd1beb6e3ed4058f8e9ba3aea4be9f153016c2633c'),\n",
       " 'logsBloom': HexBytes('0x9060e2a24ad280960c82870ff20096214d23e60db5bb549d602be570008069269244338440006840cc20619752360d004b0834944b0127003a9d86029ae1180c0c42002b1905ef874a08a309b05c68e446963207d2733a363bd2d8e283d67538381e8909565120d02aec462dc005bb206648930ca4181cd42f615412062a9b041ea0c0e703680011df49004d0e2f06b49d324a697f60acaa4c00334e44d64a81a73b0050242a2092064542891c10708050052c528c635582044a8120a8c401a044850366b33a04080f0a48840e1e1af604543241646c0076292a2ae600c0264481182cab1be0101598a2362422d52a9004a7c80685aaa0c4021418610ac3ce0e'),\n",
       " 'miner': '0xEA674fdDe714fd979de3EdF0F56AA9716B898ec8',\n",
       " 'mixHash': HexBytes('0x02c5a768f8f631f84abcfa237e6d04dde31442eced04713a104d7b3e0fae61c6'),\n",
       " 'nonce': HexBytes('0xb7490c78002f0930'),\n",
       " 'number': 11283066,\n",
       " 'parentHash': HexBytes('0x4498ec3c529acaa686005486707867f81a38bc3bfe40480345e2a11cc5a16b9f'),\n",
       " 'receiptsRoot': HexBytes('0x0860b162ca1a28d2bec89499a8eb5657cf936085d9d1a350cebbdaaedc6b0eb4'),\n",
       " 'sha3Uncles': HexBytes('0x1dcc4de8dec75d7aab85b567b6ccd41ad312451b948a7413f0a142fd40d49347'),\n",
       " 'size': 84907,\n",
       " 'stateRoot': HexBytes('0x42281c91e7bab04ff92885eb99298ccfade87c8e45a3f1c67e645d442db7b528'),\n",
       " 'timestamp': 1605717888,\n",
       " 'totalDifficulty': 18794499857718907071783,\n",
       " 'transactions': [HexBytes('0x854d940e285a7ea5ee1556385b3790ac4a55450eb4daf448b8a7cfe472cf9089'),\n",
       "  HexBytes('0x79147caa9855985b42cace9a062af586a44011e57f98ebc94ae92e1fba84e760'),\n",
       "  HexBytes('0xc3430c1a33a0f4eae632b0c53981d5577c097af91fa273600ea620fcef13c6eb'),\n",
       "  HexBytes('0x1e046573dfb89f65a73ae55d6b87bbfc14ee3bdca4db4f4d0adf1bfe4b4dd7b0'),\n",
       "  HexBytes('0x316d24e869d970ebf3f676d9e5df01a0318df2cb3f2e030f9ab79ddbfebd4b4f'),\n",
       "  HexBytes('0x30c4b82568e80bc0de725b899cf618950c82213e024cec038e63e78a6037002e'),\n",
       "  HexBytes('0xd79d504a909adf061b80a1688419ee951db12206312155dc3d4b247db8f4028c'),\n",
       "  HexBytes('0x38aeccb5db127bb58258e6b63171ef88b29db11cc09048dbd0d55f4b7df40589'),\n",
       "  HexBytes('0x27236eaa08bbb50ced397e7bd23329e08ab9d57d7412963183a432264481fc75'),\n",
       "  HexBytes('0xe8fc0ad60acf6d77fb24614fb7b20bfe5d9af5b0b6571f1444c9ff889d071226'),\n",
       "  HexBytes('0x1ab47aacf24aa5e6d5d6a96e1e7b679c39a3db76877cdaf26230c43cf84ba168'),\n",
       "  HexBytes('0x3afaa0b13b9004b70046544e7e6451d2e9f594931ded51ec1b99f67427b6f361'),\n",
       "  HexBytes('0x982bd199b4f6450b40bace539fb1fb12b29f79e6f95913aaeaf132e76b63cfca'),\n",
       "  HexBytes('0x5a56f12fd64d31dabe02d164cc3717463a2379554bb67682c5090080a28ac9ad'),\n",
       "  HexBytes('0x7e1525c05a5dae66c0ab56ae8213cc7bc3f73d41da255544394384dca9094ced'),\n",
       "  HexBytes('0xac221565ff093d24ffd001e122377eaac65813c6cc992ff8a80eeccf4b61ed86'),\n",
       "  HexBytes('0xbdfe915016ed86eba6d6f9cb78db7ff9e7dc30dd67d5fdf1e0e7de16a4489f4a'),\n",
       "  HexBytes('0x99866426ebd2e2041847bd890334de5e58d403e502ba8c5ba8fda0a1a523b31a'),\n",
       "  HexBytes('0xd38ae03f81dd8130a9da1d9754c4605b90304156d65d8ee096d5a8caf44a80b1'),\n",
       "  HexBytes('0xe4877b0c51ea86c1d71a57ce7b8466ca3cc489bde8530394b7cfa6eee09a1a09'),\n",
       "  HexBytes('0x0b0a65c88d5980d539c25973e41059c7cef30c5eedf2b82fe710d8696ec17985'),\n",
       "  HexBytes('0xb8a7f5638d60a10253c89896007cce13b897366a9d50ddcd6585d0aeec96b240'),\n",
       "  HexBytes('0xf90fbedd0a301e0fb5b9f66f5a3e7ecc88487119984cac18471fa450692b8e6e'),\n",
       "  HexBytes('0x67ce0f81ec5ad2d704f64ff909c7a3e57a68d96f39eb31d0701d0f7c4059597f'),\n",
       "  HexBytes('0x762259c906cba70f0c325845b62263ba5ba5ed781af79ba459c3a55673cba701'),\n",
       "  HexBytes('0x80452e80c7f8134a8a89da1bb7ef72c9770540f167fe7dff822b89a574ca6d8f'),\n",
       "  HexBytes('0xa0c1ceab1a4f3d08a91c3476bc2ee9530461343871cd9700c6d443528c52dd11'),\n",
       "  HexBytes('0xb67eb0541149dd886338f9103cc17356b1c91d339912033590215fabc2bfc4c3'),\n",
       "  HexBytes('0x7f65974744a3a5901e0656e78dc6186d943c88eab3cebf893e2edea2b83be018'),\n",
       "  HexBytes('0x1c0356fa409321bd646775fef8478cc8ad941fc639fb9ec43cb967b703990511'),\n",
       "  HexBytes('0xb1112e3691dcdcabaa987f97570bdffd622c2c4f1480626d2acafc69ddac8982'),\n",
       "  HexBytes('0xfc32d6ae8a508da342cf0b4c5cda05147aab908d14b8506820497948815918b6'),\n",
       "  HexBytes('0x488e9eac70e61cdc47379cd3663e472ca8883ccbbc586681b6b8596d836c857a'),\n",
       "  HexBytes('0x42a65bf36bbd3949a44e8b2be0b2a527dfa1e13af5b6f79698735259a5fd6cad'),\n",
       "  HexBytes('0xc8b5e62bccb94b6d1bc415db213a6050248fb2103c6243a14911b0986516ca78'),\n",
       "  HexBytes('0x159f6018a2a1541e495c62f6d255484a19eed36f6f7c1b353e0575ad17425f6d'),\n",
       "  HexBytes('0xfc773a84d49cdebc9d824ad7dec2fdf5a58ef5357bf7573473a6a8500ddf397a'),\n",
       "  HexBytes('0xe158c0fd15de5e48f3da65fac54a92497a804ef999b17552243181ca5af11178'),\n",
       "  HexBytes('0xdb673684f5f1e7b3d7ae93238d045d7592877200cebc7251ca06da949c3b6d95'),\n",
       "  HexBytes('0x1e3ca36e6638db64b4ae3aed3e5ec12c22914d6e86eb8bc3ca5086c21fc0ee3e'),\n",
       "  HexBytes('0x1036a934f1fc00fcc40b81f811be05a832707472de74dd06b737dd8b1269243c'),\n",
       "  HexBytes('0xc16790f345776232474173b934d140280bc65a4e6328e641ade9d6acfa05aba0'),\n",
       "  HexBytes('0x7e933ff3ea0dee4171a94514f49b2e382eb2953b9501f69d0f0e61a365ad4a2f'),\n",
       "  HexBytes('0x818b66f65f553661f9c8fc2da99fb8f14704986619975bd2ce6f67e4d82705c7'),\n",
       "  HexBytes('0xf91c09e725d88b90125b34aef35980e3519c993b9b21f694a23b5a2d28fe9435'),\n",
       "  HexBytes('0x3f23224d8d82b590bd56515240a5ab7f9e66fc9305646bdddc7f3b587e285219'),\n",
       "  HexBytes('0x9bffcc71222cc993b91ef9c1266a8e33e0c4db60116f4cb03c6ed9f10170fe68'),\n",
       "  HexBytes('0x974cd91472abafea69a43ebee6ff16beb9f06cfbcf197d41a6ce0f640902dd2f'),\n",
       "  HexBytes('0xab7e15f531454cf7c082ce813c39afc36aa936663f7c47eef3237c2313bf32d3'),\n",
       "  HexBytes('0xe41cbca0f0731e98682e7cb38e31251193244529b1b97e5236a96c50991ea021'),\n",
       "  HexBytes('0x4454d8952f2318f2338e9aa0891fe5f4f37084843ca6006dbd47785c243e9802'),\n",
       "  HexBytes('0xf2162eab820b4016ce3824af10a4c1299ae4715bf67647bad5352ac476841337'),\n",
       "  HexBytes('0xe18ae363d709bfd9f3af8e9bcd03a2d8cb1b340e95832f22199977103f3b9177'),\n",
       "  HexBytes('0x1d30f6c1f3bd64ff10b7fcb44ba37c057051a1b4ee4bee4dcb08c7573222b047'),\n",
       "  HexBytes('0x8160a3c5773bdcddeb3dbee46a6dd1a1ea2fd9f7a1e40663b37c91199ce84e58'),\n",
       "  HexBytes('0xf30924f663eaabaa7bd0bb617a08fb6fc9f56737fdcbdf4ee47f8a96aeecb198'),\n",
       "  HexBytes('0x72de619c151b9fe0cd5ee4fa35b1da044a9335273133988aee03a9c07bc77dae'),\n",
       "  HexBytes('0x51e0536acb4461c49d4c26e4ccfbacb85cddbe046861315c4dc9b4a12206a568'),\n",
       "  HexBytes('0xc75674991fc2a3fee3ee70d684a15fe65088270d8d0d967f30793092f40b36cf'),\n",
       "  HexBytes('0x4e6d807aaf85d0f224e44fc620d72ed56cedd24f0e6746e0d6f93a0cb2b8e574'),\n",
       "  HexBytes('0x50fa31c8c1df3f28d92aebc7e0e469151d6d6166f1747b3b73f095db39209a60'),\n",
       "  HexBytes('0x2244b036f3cca23d194c2f12ca54350df1686563b39be3704d19f75e8d5b362f'),\n",
       "  HexBytes('0x85e46ecc7190465fe2ab2c17a18b7d9b98a0d13eeac89923c65675b6d567fb39'),\n",
       "  HexBytes('0xad6dcfdcb4a9c5d3fc336abb591b4dd1f136ae1196dc4c88725cce6d3c13ee20'),\n",
       "  HexBytes('0x04d9eb3968a0fe94bb8c0df078def252c0a063b6a2147baa5a483e6b862e2af8'),\n",
       "  HexBytes('0x44452126c7c840773645489b4216d8ba4a045b9476cd0f10cee8dd7cc00dc02d'),\n",
       "  HexBytes('0x20d9ef5c636cb2158ea9cf3741e355502f637cf27caa969ac8c7c16ec3c52261'),\n",
       "  HexBytes('0x9732f8b70405a6ba45411818b3663858a38bff1fb066bfab6f3791ce57de90db'),\n",
       "  HexBytes('0xf56a9d6bfb2360be2726b3664a523cb0e4315a0de00793cb6b0024f5744e6c06'),\n",
       "  HexBytes('0x23ab0143a53f03e8b8c31b6893b4c9fc8aee6d7243b947685762314a05dbfbb4'),\n",
       "  HexBytes('0x8571b7c175e4eced4140d5f208a7977d3ae8f444f46329fe484a9bdf5dc67829'),\n",
       "  HexBytes('0xaa3bd2abe05daeac09cec88172b0f594e1969c90cee5049915d4e5418fc6b3df'),\n",
       "  HexBytes('0x3b02354bd64c2f27262eba5cf6810961d120f6e59996a5d71b733a860aac13ef'),\n",
       "  HexBytes('0x6e11a29e23915fcd8ced68adc0594d2f1db49ba161181ecb676270e8ea67e4ef'),\n",
       "  HexBytes('0x4def7b60fc1d0f344c74fe7071531a9f790358f70da6ee106f67cfd99d1db4ac'),\n",
       "  HexBytes('0x074457f5bb0a0b496e86f879c3901aad8de12aed2463d59f018989d95ac4ee88'),\n",
       "  HexBytes('0x568e4acdba6dcffa1e204d09e6802f3cd80ac3e654a25f3f302a60254dbe3ff1'),\n",
       "  HexBytes('0x2d757dc266f8c8f97d45c1f356923228d7f173b05c901acd4513e21cef3d2c8a'),\n",
       "  HexBytes('0x21c113805126ef329d822fe628b10448cffda94117e92fc2d6da2b317fff6910'),\n",
       "  HexBytes('0x3424002cfeb3230f901ae7d25e9762f93a029eb93bb5a358275c4c4c2e6478cb'),\n",
       "  HexBytes('0xa0c5cd3875bcf69ecc1dc7b74d73ee82ebbbb2cd127a12a8887d6a043a559292'),\n",
       "  HexBytes('0xa9bffd75c3aabe112835d72ec5ae009b76e3b61832f80d0e77bf02ed7cc11151'),\n",
       "  HexBytes('0x6f77eceae7d0b798bca56a960aca8804a18eb3c93d38c7364bac23032b2f0dcb'),\n",
       "  HexBytes('0x749f9745c3630df656829bf2371ef640e0580439e9e24e4e5f904b9c1672b5da'),\n",
       "  HexBytes('0x89671bf592d1f0a1c65529385232f0dd162776421634810329ed4db0df194b77'),\n",
       "  HexBytes('0x067b588d86f58dcb916401a9ece9074c048f45b53324a3a093c6c84afca29add'),\n",
       "  HexBytes('0x4421786c5301a1e925270d47f6842f7c00e8e8260ac6d46c95f7645ced612792'),\n",
       "  HexBytes('0x68052f2984089843612eb9b87189b78b355fd1a523a3a421a83a0e8ac71e1b1e'),\n",
       "  HexBytes('0x288f5166ad34efe597b8ca25a6e92a25134ee069d18b74fc82ecb1e48364813a'),\n",
       "  HexBytes('0x3ec84a7d3de779bb71e88aae363fabeef6c11a09ebad7e429b7f5007b43fc643'),\n",
       "  HexBytes('0x0b9f1508372bb2c4c3f3379edca1b2f1050ee2da003fa893bedcd1df0d710c63'),\n",
       "  HexBytes('0xadb30e08880e144ffae117f3790caa5633cd332b680b6376157782e2b60c1a9f'),\n",
       "  HexBytes('0xa649615231eb3e5eb69c3dda7f53ea28690228c22af00ccbd69100487e4d71eb'),\n",
       "  HexBytes('0x5fa871f5124ff521bebbe8f60fd3d0fc01e7e4ffa922d1d9a4b6483187f6e815'),\n",
       "  HexBytes('0xd649e9d123beb743f38a5b7c097341d30e94d61ffd797a05a7633a0b0fcadd59'),\n",
       "  HexBytes('0xe3f4e8d2b116b8f944257e2cc6f55e4cb269070c756c1cb4a9d5cbb3aa721a43'),\n",
       "  HexBytes('0x52c49cb703f580693ee44d4842ef22982646890f0db730e446dd0ee9cad2b5c9'),\n",
       "  HexBytes('0x8567f324abe3ec93f283f1759d6338cd25308ed8768caaf56166c0fe9c4fc173'),\n",
       "  HexBytes('0xc7869ac69ee009412c9ea42fa6b671ef22ca5b3d650c96cd19c76c2f291181e3'),\n",
       "  HexBytes('0x1ad9b935e92b57235727111cfbe8d7a5e2e4275a690d5d399d2df312bf5ac51d'),\n",
       "  HexBytes('0xc287ae90074001c154177ae2f2fee60bed4c81210e47dc3b643f35e9226589fe'),\n",
       "  HexBytes('0x033334a2ab65ed0ad45babbfe135c951233f4071c89b94d446785f708a15497d'),\n",
       "  HexBytes('0xd47c8ed50c7a12b5e9fcc61c2b884be163626eada16a06ef6e830f7d613c4530'),\n",
       "  HexBytes('0xe83c8f172955b494179e6aeeb517b5cb22c73e2f987851a1e718aaa6ca19a648'),\n",
       "  HexBytes('0xa8aa1c7d54db6ce929c17a35da9f770718e8040b83a91ee48a35ff0fc945ceaf'),\n",
       "  HexBytes('0x9405e7062fd431ac52baf608ec4cfc786fd78b38d1b05e89f600795eea6dace3'),\n",
       "  HexBytes('0x35e3721d30161fb73c6df3d28b5b7df65c840f1aa5fe60aa8f8a56e362632179'),\n",
       "  HexBytes('0x4c140e6b0d5f08aad5c2037c5129168635f7123f8ea915d5b70fa5aae886bda9'),\n",
       "  HexBytes('0xb856911a91410bb9a518028dbd7ece94f9e339f8379f7fda5b2d0e34bfaa32de'),\n",
       "  HexBytes('0xf81fda6c929c4ba863a422dce4f65b5dbcee02227b057ee5705217f24a812823'),\n",
       "  HexBytes('0xf69a22a4f411270868d496913e6d0361303321a7da13a62238111e408d96f3f2'),\n",
       "  HexBytes('0x1d0abff0c89af06255fd3562e4c6791f75208886f96905552b110244fb0427aa'),\n",
       "  HexBytes('0xa5bbdce67db629f75ba01849bb97cd84c9cf7b616b259a59e440e5fb1a8a6637'),\n",
       "  HexBytes('0x965109badef9d8faa8c096708e0e3689e114e7daac4366dc7c398f8618f6b52f'),\n",
       "  HexBytes('0x5430e3a7f723c92b6421459d540d86621d9f0f14fdd0e05b1f6cd4ba3e5ccc61'),\n",
       "  HexBytes('0x709dcce5ee1053b53d844a42cf75fdcde2a41e5a9843780d6b4c0b323f032c24'),\n",
       "  HexBytes('0xb7b8c26d8ca21439ccb61e2a9440ace5d920fe2311658d51270819b44493abc7'),\n",
       "  HexBytes('0x6ee6fe93f647a7dca14bcae389b152f6cabd24358ad5bab00c38242381a8e1e1'),\n",
       "  HexBytes('0x338d5031b77b4a2ede21f45099ba7907a28f57e4061cdf7e79b35c6060aa283c'),\n",
       "  HexBytes('0x3baff46dc53f84b74c4742ce1d547816fd09bc0ebc0c36e31848b73d5a99bf9a'),\n",
       "  HexBytes('0x81907de3c58352b8843a26891bf7b21f0800d256ed1d2ee5f31d7336156b10eb'),\n",
       "  HexBytes('0x70607b2f7d98cd6b66537a150b442a8b7b2805a1020ce1b6aad9b95ff5d470a3'),\n",
       "  HexBytes('0x8e7e028fbef498778370774e36aa3714d2b2b75c610657ec524bfd9f66396801'),\n",
       "  HexBytes('0x546bf49931a063070675a4d66f2b6f7529fb6a4b16c627383f0a74373ac58486'),\n",
       "  HexBytes('0xc54c760a36610a5657fa6f86f04001224f26a79e157c282ff42903151f50b247'),\n",
       "  HexBytes('0x75728e69472bf17dc3805ebe7d881e283cbefaaacc185938eea886f6a16a1781'),\n",
       "  HexBytes('0x6fba164bc23f3686cf6c3a4f0a60ee7e92f018308b7aab4772bfa31ee6ab5c31'),\n",
       "  HexBytes('0x1cb237a0acc15a141f75e929a0c84a5a54e9d99ddecfcf63789a4cd613e71461'),\n",
       "  HexBytes('0xef015f3adeb0f3b329a910634655a68bf017e4d4ba3aeb026f5de5943596badc'),\n",
       "  HexBytes('0x65177bc7ab1a686f701e1411dc9bda262fe7840fa84c290d0a128b069ac6d5b7'),\n",
       "  HexBytes('0x9ad46c7a72b0b96a6059c838214f262e21cb2a37ccecccaf2b3dc721bcbbc2ce'),\n",
       "  HexBytes('0x1e34fa531f3c9c30dfcc3c583d2b8d3fadb4da6779f405533b426e5467da6ce6'),\n",
       "  HexBytes('0xf3d3d2f4fcb3cdb99fe6fe200b0ccbfa71c080d95c76c2ad136a6486070a75b0'),\n",
       "  HexBytes('0xb56a2b3a7e4eafd73e7de78e8581ed6bafc2e0143d39c5ca0a1df750c9818638'),\n",
       "  HexBytes('0x90a051a53fffa6f31bc6ae5ddbbf7130a5030c2d3c6d16f75f58693677d33847'),\n",
       "  HexBytes('0x0a4063df34bc923db595776eb858f140b292793a013d322361724f19fadad0e1'),\n",
       "  HexBytes('0x66baf719e38f696ea8c0fb915ff2d0017974befd4883d4723a2dc01e13571a3f'),\n",
       "  HexBytes('0xa0f932261e133647919f21a84de6a03813ed1a9a4fc3c510d38cca76137cd572'),\n",
       "  HexBytes('0xa13cb085d22440cfbf21fb62bc10aec05609bd2362ba9947f8021c31704c5dea'),\n",
       "  HexBytes('0x84cd3d3a7c1d24e4a69009bd8d4cd28a1c5127aff6fbb3c7762f034eb5a5e422'),\n",
       "  HexBytes('0x875af1620645b70b167ef5ee0a9a4e91c8494334d6b1125fd92bf2a78edaf17d'),\n",
       "  HexBytes('0xf24428cb7d5483e28fd57e2a479c5fcd36a7ad6cf8ac70f012281195aec573b3'),\n",
       "  HexBytes('0x3c115360f4eef8e80e8e461111cc5645641b2ee8b70cfc4195d71e0d17a15f4e'),\n",
       "  HexBytes('0x440214fbde370d6b7a64a3c5a488c2ea5200dc80dbbf65d6f02dbc213b567669'),\n",
       "  HexBytes('0x304de0e3bfd577c01b49bbe1e0429439a41e75abec2ad5bc08e0fbc59f63a609'),\n",
       "  HexBytes('0x3b4c0039a21940844c5270617141bded833c886d498fed829da061c89deb2e0e'),\n",
       "  HexBytes('0x5916985ec1fda62f18969ffe740fa6ad89f70c91089779c38640304d950c9901'),\n",
       "  HexBytes('0x34f9349adee5b3bbcbf20584a47daaca3dd0c63d92ace591a7ec760f19095001'),\n",
       "  HexBytes('0x13087569b3be24b650175dc807cba3e54bee3e1b3d03963d3164e08fd970b8e5'),\n",
       "  HexBytes('0xb0e26aa31bc80c9de205c9c9a0f05c83d28dc3480357926614829217061ef9dc'),\n",
       "  HexBytes('0xaa0889ea4512f95fad4047f3e7a212af71cc09f9f9cf3418e334fb5e043665d4'),\n",
       "  HexBytes('0xcd8783e60f6816b61526a4b8fa6b58852dff990b0801ddb667788c6a4b836ddd'),\n",
       "  HexBytes('0xf72c92af34bc440accaa4cc41414f3c6e3269b08615c3c328e695304215fbcb2'),\n",
       "  HexBytes('0x40720f29da8a5fe0f022e4a2a7df7bb402872f2875a2d86198ad458e28c3d820'),\n",
       "  HexBytes('0x152915dbea39153cb6a10ccdebdd7b4229dcd3b994315f4d737d040dee97d9eb'),\n",
       "  HexBytes('0x099297ba8f51d51c9c8e952eaa177ae494e3f4a64bbb597adce6a86f14ef3473'),\n",
       "  HexBytes('0xab07090ee641cab5e3dbbf692cb9220d9a7df297f5021346da73da76858245a9'),\n",
       "  HexBytes('0x06e4775a7b0068979bb11586118d2e8cfb49aafeae37bdaa433bc473cd01e30a'),\n",
       "  HexBytes('0xa6bf021c6e4cbff9d0b22301dda22ce09bebc1ed27b06aa3877d2aaf2a8c7665'),\n",
       "  HexBytes('0x438a23e2d39af5af6ded238ce124dbe84914843884fe271516b1c8dfe7d174d2'),\n",
       "  HexBytes('0x7cc082956ac0a202e06827f3f40d981b6512f655fc1713b01886d50e92d0fc5c'),\n",
       "  HexBytes('0x615789a614ed5323b1774f2e538bce99e141741a745fc9846deb983e7cf8805c'),\n",
       "  HexBytes('0x9900872d2d1fd61c46bc9f50de4cf2b30f22656ec9f70595364ae7a201934c98'),\n",
       "  HexBytes('0x19d2e0bbc51a732f1cf673e693121692654e238e2fe6ed902c1036f6040aeaa6'),\n",
       "  HexBytes('0xa9e51260b065a094b13fd82f3f4cec0148dc8829f5a55b745986ac7cfc12b2ed'),\n",
       "  HexBytes('0xba0c516ac70e30a23dc9c9282a86d3e02fd49e6aaf897f7455422a8e8f3aca60'),\n",
       "  HexBytes('0x7f835aeb1bf72a8c5d6b943014476bdb68c23ab9a86a8c239ddff58c9cb0cdbb'),\n",
       "  HexBytes('0xfa3e5f68521356c65b08496695c255c9405cebeb9a8662ce2eb58f77bf7d7573'),\n",
       "  HexBytes('0x91287fd7d8387fb202d5d6a777ffe31cdc3323339ec7c6867185047866a95642'),\n",
       "  HexBytes('0xa6b1a5b40d1af8a9c74bca2400831883167bee8f1bc56a4cf81f54a0dd3447be'),\n",
       "  HexBytes('0xa30dd4762c907837cadf7f0798a008d9587cd074b5885762fc4c80b900feeb65'),\n",
       "  HexBytes('0xac9b3a2a7022567cc68761e0d10d5bf9eaeec530e8c45834c78237d72066ac09'),\n",
       "  HexBytes('0x730c92317e33f7e42f3c4564b9729f9c0cca1c522ae809dd8a59cdb3e82e798f')],\n",
       " 'transactionsRoot': HexBytes('0x811ddb3f4e9ecd1f22f67621979739a79ade711f73b1bc513ccd4bd24d71c7bb'),\n",
       " 'uncles': []})"
      ]
     },
     "execution_count": 7,
     "metadata": {},
     "output_type": "execute_result"
    }
   ],
   "source": [
    "web3.eth.getBlock(t)"
   ]
  },
  {
   "cell_type": "markdown",
   "metadata": {},
   "source": [
    "### Generate Random Numerical Values using Hash"
   ]
  },
  {
   "cell_type": "code",
   "execution_count": 20,
   "metadata": {},
   "outputs": [],
   "source": [
    "#key = \n",
    "def set_valued_hashfunc(x, n, k):\n",
    "    rng = random.Random(sha256(x).digest())\n",
    "    return set(rng.sample(range(n), k))"
   ]
  },
  {
   "cell_type": "code",
   "execution_count": 21,
   "metadata": {},
   "outputs": [],
   "source": [
    "key = b'~s]m\\xa8\\xd6\\xca8\\x13\\xce\\x96\\xca\\x8e\\xa7\\x105\\xd5\\x80\\xb4\\x1fj\\xd5\\x0e5<AH\\x8a\\nU)\\x18'"
   ]
  },
  {
   "cell_type": "code",
   "execution_count": 27,
   "metadata": {},
   "outputs": [
    {
     "data": {
      "text/plain": [
       "{0, 4, 7}"
      ]
     },
     "execution_count": 27,
     "metadata": {},
     "output_type": "execute_result"
    }
   ],
   "source": [
    "set_valued_hashfunc(hash1, 10, 3)"
   ]
  },
  {
   "cell_type": "code",
   "execution_count": null,
   "metadata": {},
   "outputs": [],
   "source": []
  }
 ],
 "metadata": {
  "kernelspec": {
   "display_name": "Python 3",
   "language": "python",
   "name": "python3"
  },
  "language_info": {
   "codemirror_mode": {
    "name": "ipython",
    "version": 3
   },
   "file_extension": ".py",
   "mimetype": "text/x-python",
   "name": "python",
   "nbconvert_exporter": "python",
   "pygments_lexer": "ipython3",
   "version": "3.7.9"
  }
 },
 "nbformat": 4,
 "nbformat_minor": 4
}
