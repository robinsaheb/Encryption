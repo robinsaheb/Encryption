{
 "cells": [
  {
   "cell_type": "code",
   "execution_count": 1,
   "metadata": {},
   "outputs": [],
   "source": [
    "import file_encryptor.convergence\n",
    "from Crypto.Hash import SHA256\n",
    "from pyce._crypto import encrypt_path, decryptf\n",
    "from crypto import ConvergentEncryption\n",
    "from hashlib import sha256"
   ]
  },
  {
   "cell_type": "code",
   "execution_count": 2,
   "metadata": {},
   "outputs": [],
   "source": [
    "#from pycryp"
   ]
  },
  {
   "cell_type": "code",
   "execution_count": 3,
   "metadata": {},
   "outputs": [],
   "source": [
    "#key = convergence.encrypt_inline_file(\"path/file\", None)"
   ]
  },
  {
   "cell_type": "code",
   "execution_count": 4,
   "metadata": {},
   "outputs": [],
   "source": [
    "text = 'There is some information in the file.'"
   ]
  },
  {
   "cell_type": "code",
   "execution_count": 5,
   "metadata": {},
   "outputs": [],
   "source": [
    "class HashCE2:\n",
    "    \n",
    "    def __init__(self):\n",
    "        self.M = M\n",
    "    \n",
    "    # Making a new hash\n",
    "    def newhash(self, M):\n",
    "        hash = SHA256.new(self.M)\n",
    "        return hash\n",
    "    \n",
    "    # Generating Key\n",
    "    def generatingKey(self, M):\n",
    "        key = hash(self.M)\n",
    "        return key\n",
    "    \n",
    "    # Encryption, generating Ciphertext\n",
    "    def encryption(self, key, M):\n",
    "        C = convergent(key, self.M)\n",
    "        # Encryption, Tag generatio\n",
    "        t = hash(key)\n",
    "        Cipher = ' '.join(C, t)\n",
    "        return Cipher\n",
    "    \n",
    "    # Decryption, getting message\n",
    "    def decryption(self, key, Cipher):\n",
    "        M1 = convergentDecrypt(Cipher, key)\n",
    "        # Generating the tag\n",
    "        Tag1 = hash(hash(M1))\n",
    "        # Checking both tags\n",
    "        if t != Tag1:\n",
    "            print(\"Messsage is Corrupted\")\n",
    "            return None\n",
    "            \n",
    "        else:\n",
    "            self.M = M1\n",
    "            return self.M\n",
    "\n",
    "        "
   ]
  },
  {
   "cell_type": "code",
   "execution_count": 6,
   "metadata": {},
   "outputs": [],
   "source": [
    "from Crypto.Cipher import AES\n",
    "from hashlib import md5\n",
    "from Crypto.Random import get_random_bytes\n",
    "from Crypto.Util.Padding import pad, unpad\n",
    "from base64 import b64encode, b64decode\n",
    "from hashlib import sha256"
   ]
  },
  {
   "cell_type": "markdown",
   "metadata": {},
   "source": [
    "### Generating Convergent Key\n",
    "Creating Symmetric Key"
   ]
  },
  {
   "cell_type": "code",
   "execution_count": 81,
   "metadata": {},
   "outputs": [],
   "source": [
    "def ConvKeyGen(hash_value):\n",
    "    # Using Crypto library\n",
    "    #key = SHA256.new()\n",
    "    \n",
    "    # Encoding the text\n",
    "    line = hash_value\n",
    "    #line = line.encode('utf-8')\n",
    "    print(line)\n",
    "    \n",
    "    # Using hashlib library\n",
    "    #key = sha256(line.encode('utf-8')).digest()\n",
    "    \n",
    "    # Making a key\n",
    "    #key.update(line)\n",
    "    #key.digest()\n",
    "    key = md5(line.encode('utf-8')).digest()\n",
    "    return key"
   ]
  },
  {
   "cell_type": "markdown",
   "metadata": {},
   "source": [
    "### Encryption using Symmetric Key\n",
    "We are using AES-CBC. Returns cipher_text, cipher_suite, and tag. "
   ]
  },
  {
   "cell_type": "code",
   "execution_count": 102,
   "metadata": {},
   "outputs": [],
   "source": [
    "from cryptography.fernet import Fernet\n",
    "def ConvEncryption(key, text_file):\n",
    "    # Generating random blocks\n",
    "    iv = get_random_bytes(AES.block_size)\n",
    "    print(\"This is iv\", iv)\n",
    "    # Creating cipher_suite for random blocks\n",
    "    cipher_suite = AES.new(key, AES.MODE_CBC, iv)\n",
    "    #cipher_suite = AES.new(key, AES.MODE_CBC)\n",
    "    \n",
    "    # Encrypting text file.\n",
    "    cipher_text = b64encode(iv + cipher_suite.encrypt(pad(text_file.encode('utf-8'), \n",
    "            AES.block_size)))\n",
    "    #cipher_text = b64encode(cipher_suite.encrypt(pad(text_file.encode('utf-8'), \n",
    "     #       AES.block_size)))\n",
    "    \n",
    "    \n",
    "    # Creating a tag\n",
    "    #cipher_text = cipher_suite.encrypt(text_file.encode('utf-8'))\n",
    "    tag = md5(cipher_text).digest()\n",
    "    return cipher_text, cipher_suite, tag\n",
    "    "
   ]
  },
  {
   "cell_type": "markdown",
   "metadata": {},
   "source": [
    "### Decryption using Symmetric Key\n",
    "Using cipher_suit from before"
   ]
  },
  {
   "cell_type": "code",
   "execution_count": 103,
   "metadata": {},
   "outputs": [],
   "source": [
    "def ConvDecryption(key, cipher_text):\n",
    "    # Creating a tag\n",
    "    tag = md5(cipher_text).digest()\n",
    "    \n",
    "    # Decrypting the data\n",
    "    raw = b64decode(cipher_text)\n",
    "    cipher_suite = AES.new(key, AES.MODE_CBC, raw[:AES.block_size])\n",
    "    #cipher_suite = AES.new(key, AES.MODE_CBC)\n",
    "    \n",
    "    plain_text = unpad(cipher_suite.decrypt(raw[AES.block_size:]), AES.block_size)\n",
    "    #plain_text = unpad(cipher_suite.decrypt(raw), AES.block_size)\n",
    "    \"\"\"\n",
    "    tag1 = sha256()\n",
    "    tag1.update(plain_text)\n",
    "    tag1.digest()\n",
    "    \n",
    "    if tag1 == tag:\n",
    "        return plain_text\n",
    "    else:\n",
    "        return \"Data is corrupted.\"\n",
    "    \"\"\"\n",
    "    \n",
    "    return plain_text"
   ]
  },
  {
   "cell_type": "code",
   "execution_count": 104,
   "metadata": {},
   "outputs": [
    {
     "name": "stdout",
     "output_type": "stream",
     "text": [
      "Now this is a ciphertext\n"
     ]
    }
   ],
   "source": [
    "key = ConvKeyGen(\"Now this is a ciphertext\")"
   ]
  },
  {
   "cell_type": "code",
   "execution_count": 105,
   "metadata": {},
   "outputs": [
    {
     "data": {
      "text/plain": [
       "b'l\\xcd\\xe9\\x91@\\x82\\xb3G\\r\\xe87a\\xdc\\xa5\\xab\\xb9'"
      ]
     },
     "execution_count": 105,
     "metadata": {},
     "output_type": "execute_result"
    }
   ],
   "source": [
    "key"
   ]
  },
  {
   "cell_type": "code",
   "execution_count": 106,
   "metadata": {},
   "outputs": [
    {
     "name": "stdout",
     "output_type": "stream",
     "text": [
      "This is iv b'u0~\\xb6\\xae\\xfe_A\\xa3\\x06\\xb64\\xb4\\xa5\\x0f\\xa5'\n"
     ]
    }
   ],
   "source": [
    "cipher_text, cipher_suite, tag = ConvEncryption(key1, \"Now this is a ciphertext\")"
   ]
  },
  {
   "cell_type": "code",
   "execution_count": 107,
   "metadata": {},
   "outputs": [
    {
     "data": {
      "text/plain": [
       "b'dTB+tq7+X0GjBrY0tKUPpcaf+T7MSknzAuNjAbv1vHoOrgsd/z7WzcDguHwPN/e4'"
      ]
     },
     "execution_count": 107,
     "metadata": {},
     "output_type": "execute_result"
    }
   ],
   "source": [
    "cipher_text"
   ]
  },
  {
   "cell_type": "code",
   "execution_count": 108,
   "metadata": {},
   "outputs": [
    {
     "data": {
      "text/plain": [
       "b'Now this is a ciphertext'"
      ]
     },
     "execution_count": 108,
     "metadata": {},
     "output_type": "execute_result"
    }
   ],
   "source": [
    "ConvDecryption(key1, cipher_text)"
   ]
  },
  {
   "cell_type": "code",
   "execution_count": 109,
   "metadata": {},
   "outputs": [
    {
     "name": "stdout",
     "output_type": "stream",
     "text": [
      "Something is wrong with this please look into it and let me know. And please improve the secret key\n"
     ]
    }
   ],
   "source": [
    "key2 = ConvKeyGen(\"Something is wrong with this please look into it and let me know. And please improve the secret key\")"
   ]
  },
  {
   "cell_type": "code",
   "execution_count": null,
   "metadata": {},
   "outputs": [],
   "source": []
  },
  {
   "cell_type": "code",
   "execution_count": null,
   "metadata": {},
   "outputs": [],
   "source": []
  },
  {
   "cell_type": "markdown",
   "metadata": {},
   "source": [
    "## Making a Key using Hash"
   ]
  },
  {
   "cell_type": "code",
   "execution_count": 110,
   "metadata": {},
   "outputs": [],
   "source": [
    "def KegGen(data):\n",
    "    # Need to hash the data to generate a key\n",
    "    key = sha256(data.encode('utf-8')).digest()\n",
    "    \n",
    "    return key"
   ]
  },
  {
   "cell_type": "code",
   "execution_count": null,
   "metadata": {},
   "outputs": [],
   "source": []
  }
 ],
 "metadata": {
  "kernelspec": {
   "display_name": "Python 3",
   "language": "python",
   "name": "python3"
  },
  "language_info": {
   "codemirror_mode": {
    "name": "ipython",
    "version": 3
   },
   "file_extension": ".py",
   "mimetype": "text/x-python",
   "name": "python",
   "nbconvert_exporter": "python",
   "pygments_lexer": "ipython3",
   "version": "3.7.9"
  }
 },
 "nbformat": 4,
 "nbformat_minor": 4
}
