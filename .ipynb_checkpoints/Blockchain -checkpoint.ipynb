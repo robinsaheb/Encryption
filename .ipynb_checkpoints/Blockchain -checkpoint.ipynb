{
 "cells": [
  {
   "cell_type": "code",
   "execution_count": 1,
   "metadata": {},
   "outputs": [],
   "source": [
    "import file_encryptor.convergence\n",
    "from Crypto.Hash import SHA256\n",
    "from pyce._crypto import encrypt_path, decryptf\n",
    "from crypto import ConvergentEncryption\n",
    "from hashlib import sha256"
   ]
  },
  {
   "cell_type": "code",
   "execution_count": 2,
   "metadata": {},
   "outputs": [],
   "source": [
    "#from pycryp"
   ]
  },
  {
   "cell_type": "code",
   "execution_count": 3,
   "metadata": {},
   "outputs": [],
   "source": [
    "#key = convergence.encrypt_inline_file(\"path/file\", None)"
   ]
  },
  {
   "cell_type": "code",
   "execution_count": 4,
   "metadata": {},
   "outputs": [],
   "source": [
    "text = 'There is some information in the file.'"
   ]
  },
  {
   "cell_type": "code",
   "execution_count": 5,
   "metadata": {},
   "outputs": [],
   "source": [
    "class HashCE2:\n",
    "    \n",
    "    def __init__(self):\n",
    "        self.M = M\n",
    "    \n",
    "    # Making a new hash\n",
    "    def newhash(self, M):\n",
    "        hash = SHA256.new(self.M)\n",
    "        return hash\n",
    "    \n",
    "    # Generating Key\n",
    "    def generatingKey(self, M):\n",
    "        key = hash(self.M)\n",
    "        return key\n",
    "    \n",
    "    # Encryption, generating Ciphertext\n",
    "    def encryption(self, key, M):\n",
    "        C = convergent(key, self.M)\n",
    "        # Encryption, Tag generatio\n",
    "        t = hash(key)\n",
    "        Cipher = ' '.join(C, t)\n",
    "        return Cipher\n",
    "    \n",
    "    # Decryption, getting message\n",
    "    def decryption(self, key, Cipher):\n",
    "        M1 = convergentDecrypt(Cipher, key)\n",
    "        # Generating the tag\n",
    "        Tag1 = hash(hash(M1))\n",
    "        # Checking both tags\n",
    "        if t != Tag1:\n",
    "            print(\"Messsage is Corrupted\")\n",
    "            return None\n",
    "            \n",
    "        else:\n",
    "            self.M = M1\n",
    "            return self.M\n",
    "\n",
    "        "
   ]
  },
  {
   "cell_type": "code",
   "execution_count": 6,
   "metadata": {},
   "outputs": [],
   "source": [
    "from Crypto.Cipher import AES\n",
    "from hashlib import md5\n",
    "from Crypto.Random import get_random_bytes\n",
    "from Crypto.Util.Padding import pad, unpad\n",
    "from base64 import b64encode, b64decode\n",
    "from hashlib import sha256"
   ]
  },
  {
   "cell_type": "markdown",
   "metadata": {},
   "source": [
    "### Generating Convergent Key\n",
    "Creating Symmetric Key"
   ]
  },
  {
   "cell_type": "code",
   "execution_count": 7,
   "metadata": {},
   "outputs": [],
   "source": [
    "def ConvKeyGen(hash_value):\n",
    "    # Using Crypto library\n",
    "    #key = SHA256.new()\n",
    "    \n",
    "    # Encoding the text\n",
    "    line = hash_value\n",
    "    #line = line.encode('utf-8')\n",
    "    print(line)\n",
    "    \n",
    "    # Using hashlib library\n",
    "    #key = sha256(line.encode('utf-8')).digest()\n",
    "    \n",
    "    # Making a key\n",
    "    #key.update(line)\n",
    "    #key.digest()\n",
    "    key = md5(line.encode('utf-8')).digest()\n",
    "    return key"
   ]
  },
  {
   "cell_type": "markdown",
   "metadata": {},
   "source": [
    "### Encryption using Symmetric Key\n",
    "We are using AES-CBC. Returns cipher_text, cipher_suite, and tag. "
   ]
  },
  {
   "cell_type": "code",
   "execution_count": 8,
   "metadata": {},
   "outputs": [],
   "source": [
    "from cryptography.fernet import Fernet\n",
    "def ConvEncryption(key, text_file):\n",
    "    # Generating random blocks\n",
    "    iv = get_random_bytes(AES.block_size)\n",
    "    print(\"This is iv\", iv)\n",
    "    # Creating cipher_suite for random blocks\n",
    "    cipher_suite = AES.new(key, AES.MODE_CBC, iv)\n",
    "    #cipher_suite = AES.new(key, AES.MODE_CBC)\n",
    "    \n",
    "    # Encrypting text file.\n",
    "    cipher_text = b64encode(iv + cipher_suite.encrypt(pad(text_file.encode('utf-8'), \n",
    "            AES.block_size)))\n",
    "    #cipher_text = b64encode(cipher_suite.encrypt(pad(text_file.encode('utf-8'), \n",
    "     #       AES.block_size)))\n",
    "    \n",
    "    \n",
    "    # Creating a tag\n",
    "    #cipher_text = cipher_suite.encrypt(text_file.encode('utf-8'))\n",
    "    tag = md5(cipher_text).digest()\n",
    "    return cipher_text, cipher_suite, tag\n",
    "    "
   ]
  },
  {
   "cell_type": "markdown",
   "metadata": {},
   "source": [
    "### Decryption using Symmetric Key\n",
    "Using cipher_suit from before"
   ]
  },
  {
   "cell_type": "code",
   "execution_count": 9,
   "metadata": {},
   "outputs": [],
   "source": [
    "def ConvDecryption(key, cipher_text):\n",
    "    # Creating a tag\n",
    "    tag = md5(cipher_text).digest()\n",
    "    \n",
    "    # Decrypting the data\n",
    "    raw = b64decode(cipher_text)\n",
    "    cipher_suite = AES.new(key, AES.MODE_CBC, raw[:AES.block_size])\n",
    "    #cipher_suite = AES.new(key, AES.MODE_CBC)\n",
    "    \n",
    "    plain_text = unpad(cipher_suite.decrypt(raw[AES.block_size:]), AES.block_size)\n",
    "    #plain_text = unpad(cipher_suite.decrypt(raw), AES.block_size)\n",
    "    \"\"\"\n",
    "    tag1 = sha256()\n",
    "    tag1.update(plain_text)\n",
    "    tag1.digest()\n",
    "    \n",
    "    if tag1 == tag:\n",
    "        return plain_text\n",
    "    else:\n",
    "        return \"Data is corrupted.\"\n",
    "    \"\"\"\n",
    "    \n",
    "    return plain_text"
   ]
  },
  {
   "cell_type": "code",
   "execution_count": 10,
   "metadata": {},
   "outputs": [
    {
     "name": "stdout",
     "output_type": "stream",
     "text": [
      "Now this is a ciphertext\n"
     ]
    }
   ],
   "source": [
    "key = ConvKeyGen(\"Now this is a ciphertext\")"
   ]
  },
  {
   "cell_type": "code",
   "execution_count": 11,
   "metadata": {},
   "outputs": [
    {
     "data": {
      "text/plain": [
       "b'l\\xcd\\xe9\\x91@\\x82\\xb3G\\r\\xe87a\\xdc\\xa5\\xab\\xb9'"
      ]
     },
     "execution_count": 11,
     "metadata": {},
     "output_type": "execute_result"
    }
   ],
   "source": [
    "key"
   ]
  },
  {
   "cell_type": "code",
   "execution_count": 12,
   "metadata": {},
   "outputs": [
    {
     "name": "stdout",
     "output_type": "stream",
     "text": [
      "This is iv b'\\xcb\\x16\\\\\\xec\\xee\\x98\\x96A9\\x9f\\x1a\\xb5q\\xd6/\\xaa'\n"
     ]
    }
   ],
   "source": [
    "cipher_text, cipher_suite, tag = ConvEncryption(key, \"Now this is a ciphertext\")"
   ]
  },
  {
   "cell_type": "code",
   "execution_count": 13,
   "metadata": {},
   "outputs": [
    {
     "data": {
      "text/plain": [
       "b'yxZc7O6YlkE5nxq1cdYvqmsDQwbVzkhyU3OQMJU6FdlEg7Bi+h92lWM28QMcJEtZ'"
      ]
     },
     "execution_count": 13,
     "metadata": {},
     "output_type": "execute_result"
    }
   ],
   "source": [
    "cipher_text"
   ]
  },
  {
   "cell_type": "code",
   "execution_count": 14,
   "metadata": {},
   "outputs": [
    {
     "data": {
      "text/plain": [
       "b'Now this is a ciphertext'"
      ]
     },
     "execution_count": 14,
     "metadata": {},
     "output_type": "execute_result"
    }
   ],
   "source": [
    "ConvDecryption(key, cipher_text)"
   ]
  },
  {
   "cell_type": "code",
   "execution_count": 15,
   "metadata": {},
   "outputs": [
    {
     "name": "stdout",
     "output_type": "stream",
     "text": [
      "Something is wrong with this please look into it and let me know. And please improve the secret key\n"
     ]
    }
   ],
   "source": [
    "key2 = ConvKeyGen(\"Something is wrong with this please look into it and let me know. And please improve the secret key\")"
   ]
  },
  {
   "cell_type": "code",
   "execution_count": null,
   "metadata": {},
   "outputs": [],
   "source": []
  },
  {
   "cell_type": "code",
   "execution_count": null,
   "metadata": {},
   "outputs": [],
   "source": []
  },
  {
   "cell_type": "code",
   "execution_count": 16,
   "metadata": {},
   "outputs": [],
   "source": [
    "class Counter(object):\n",
    "    \"\"\" 16 Byte binary counter\n",
    "    \n",
    "    Example:\n",
    "        c = Counter()\n",
    "        c() => \\00 * 16\n",
    "        c() => \\00...01\n",
    "    \"\"\"\n",
    "    \n",
    "    def __init__(self, a=0, b=0, c=0, d=0):\n",
    "        self.a = a\n",
    "        self.b = b\n",
    "        self.c = c\n",
    "        self.d = d\n",
    "        \n",
    "    first = True\n",
    "    def __call__(self):\n",
    "        if self.first:\n",
    "            self.first = False\n",
    "        else:\n",
    "            if self.d < 0xFFFFFFFF:\n",
    "                self.d += 1                     # increment byte 0\n",
    "            elif self.c < 0xFFFFFFFF:\n",
    "                self.c += 1                     # increment byte 1\n",
    "                self.d = 0                      # reset byte 0\n",
    "            elif self.b < 0xFFFFFFFF:\n",
    "                self.b += 1                     # increment byte 2\n",
    "                self.c = self.d = 0             # reset bytes 0 and 1\n",
    "            elif self.a < 0xFFFFFFFF:\n",
    "                self.a += 1                     # increment byte 3 \n",
    "                self.b = self.c = self.d = 0    # reset bytes 0, 1, 2\n",
    "        return struct.pack(\">4L\", self.a, self.b, self.c, self.d)"
   ]
  },
  {
   "cell_type": "markdown",
   "metadata": {},
   "source": [
    "## Making a Key using Hash"
   ]
  },
  {
   "cell_type": "code",
   "execution_count": 17,
   "metadata": {},
   "outputs": [],
   "source": [
    "from crypto import SHA256d"
   ]
  },
  {
   "cell_type": "code",
   "execution_count": 18,
   "metadata": {},
   "outputs": [],
   "source": [
    "def keygen(data):\n",
    "    # Need to hash the data to generate a key\n",
    "    key = sha256(data.encode('utf-8')).digest()\n",
    "    #h = SHA256d(data.encode('utf-8')).digest()\n",
    "    \n",
    "    return key"
   ]
  },
  {
   "cell_type": "code",
   "execution_count": 36,
   "metadata": {},
   "outputs": [],
   "source": [
    "def encryption(key, data):\n",
    "    # AES should be in 16 bit.\n",
    "    a = AES.new(key, AES.MODE_CBC, 'This is an IV456'.encode('utf-8'))\n",
    "    \n",
    "    rest = len(data)%16\n",
    "    if not rest:\n",
    "        return a.encrypt(data)\n",
    "    pad = (16-rest)\n",
    "    data += chr(pad)*pad\n",
    "    \n",
    "    return a.encrypt(data.encode(\"utf-8\"))[:-pad]\n",
    "    "
   ]
  },
  {
   "cell_type": "code",
   "execution_count": 37,
   "metadata": {},
   "outputs": [
    {
     "data": {
      "text/plain": [
       "b'~s]m\\xa8\\xd6\\xca8\\x13\\xce\\x96\\xca\\x8e\\xa7\\x105\\xd5\\x80\\xb4\\x1fj\\xd5\\x0e5<AH\\x8a\\nU)\\x18'"
      ]
     },
     "execution_count": 37,
     "metadata": {},
     "output_type": "execute_result"
    }
   ],
   "source": [
    "key = keygen('The client sends the locator to the server to store the data. If the server already has the data, it can increment the reference count if desired. If the server does not, the client uploads it. The client need not send the key to the server. (The server can validate the locator without knowing the key simply by checking the hash of the encrypted data.)')\n",
    "key"
   ]
  },
  {
   "cell_type": "code",
   "execution_count": 40,
   "metadata": {
    "scrolled": false
   },
   "outputs": [
    {
     "data": {
      "text/plain": [
       "b'\\xbd^\\xccI\\xe4n\\r*\\x18\\xc38\\xde\\x85\\xe4 \\xa7\\xaf(\\xd0\\xb3*\\xfa\\xee\\xc9\\xd5Y\\x18U\\xf5\\xac\\x95/N\\xe3\\xa7]\\xe6\\x85\\x82Fs\\xd1v\\x1b\\x19\\x11\\xdb\\x12+2\\x13\\xde/\\xbew\\xc8\\xff\\xfa*D\\x1e\\xa4\\x17\\xc9^\\xa0WI\\xc4\\xd5\\xf5\\xb6\\x84\\x1c\\x1d I\\x11\\x02\\x1e\\x16\\x993#\\xaa\\xbd\\x9b\\xac\\xe7J\\xb0\\xd6\\xf0*\\xbdi\\xb3}\\x051Ly\\xd2NA\\x9c@\\xac4\\x80\\xb7V\\xcb\\xf6\\xac\\xd6\\xd9\\xe2W\\xcaEU\\x14?\\\\\\xdb9\\x05g\\xb9\\xa6\\xd6\\x0c\\xa8-\\x9f?ID\\xcdl\\xbd\\xd4}\\xf6Nf5\\xf5\\xc7\\x90W\\xa5\\xafG\\xa9\\x84D/\\x1eYA.\\xa1l\\x95\\x1f\\xf5{q3\\xd3\\x19\\x19}x\\xb6\\xa0\\xef\\x0fe+\\xaf\\xe1\\xf0\\xdf\\xf9O0\\x85V\\xec\\x81\\xf6v\\xfc\\x10f\\xfe\\x18Z\\xdd\\xd8\\x06\\x8f\\x94\\x85_lr\\x8e\\xcb_y\\xc90x-I\\xdbw\\x17\\xean\\xff\\t\\xe5x\\x94&\\xec\\xcb\\x84F\\x8fn\\xc3\\x08\\x06Y\\xe0s\\xdd$I\\xbd1\\x7fS\\xc9\\xda\\xdat\\xcd\\xdf\\xe1\\xc3d\\xde\\xb3\\xd0n?\\x9bk\\x92\"~\\xf1\\xc3\\x7f\\x7f/\\x82\\x17\\xd7\\x85\\x9d\\x86\\xd3\\xce\\xa4?\\xfb\\xb5U\\x19\\td\\x18\\xbd\\x81\\xc5\\x8c\\xebv%\\'\\x9a&\\xae\\x89\\n\\xe5mZZk)c\\x81\\xc6\\xd9B\\x88\\xfb\\xe3\\xc2\\x99\\x90\\xef\\xd1a\\x8e\\r\\xd8\\xae\\n,I#&(\\xcb\\xe6\\x13H\\x02+\\xe8\\xc19\\xe7\\xf0c\\xba\\xf0\\xa8\\xa5\\xb0\\x07\\x05\\xe9R'"
      ]
     },
     "execution_count": 40,
     "metadata": {},
     "output_type": "execute_result"
    }
   ],
   "source": [
    "encryption(key, 'The client sends the locator to the server to store the data. If the server already has the data, it can increment the reference count if desired. If the server does not, the client uploads it. The client need not send the key to the server. (The server can validate the locator without knowing the key simply by checking the hash of the encrypted data.)')"
   ]
  },
  {
   "cell_type": "code",
   "execution_count": 39,
   "metadata": {},
   "outputs": [
    {
     "name": "stdout",
     "output_type": "stream",
     "text": [
      "b'\\xe3\\xe0P@'\n",
      "b'\\xe3\\xe0P@'\n",
      "b'\\xe3\\xe0P@'\n",
      "b'\\xe3\\xe0P@'\n",
      "b'\\xe3\\xe0P@'\n",
      "b'\\xe3\\xe0P@'\n",
      "b'\\xe3\\xe0P@'\n",
      "b'\\xe3\\xe0P@'\n",
      "b'\\xe3\\xe0P@'\n",
      "b'\\xe3\\xe0P@'\n"
     ]
    }
   ],
   "source": [
    "for i in range(10):\n",
    "    print(encryption(key, 'data'))"
   ]
  },
  {
   "cell_type": "code",
   "execution_count": 23,
   "metadata": {},
   "outputs": [
    {
     "ename": "TypeError",
     "evalue": "'Counter' object is not iterable",
     "output_type": "error",
     "traceback": [
      "\u001b[0;31m---------------------------------------------------------------------------\u001b[0m",
      "\u001b[0;31mTypeError\u001b[0m                                 Traceback (most recent call last)",
      "\u001b[0;32m<ipython-input-23-f7cd6c1efe03>\u001b[0m in \u001b[0;36m<module>\u001b[0;34m\u001b[0m\n\u001b[1;32m      1\u001b[0m \u001b[0;32mfrom\u001b[0m \u001b[0mcrypto\u001b[0m \u001b[0;32mimport\u001b[0m \u001b[0mConvergentEncryption\u001b[0m\u001b[0;34m\u001b[0m\u001b[0;34m\u001b[0m\u001b[0m\n\u001b[1;32m      2\u001b[0m \u001b[0mc1\u001b[0m \u001b[0;34m=\u001b[0m \u001b[0mConvergentEncryption\u001b[0m\u001b[0;34m(\u001b[0m\u001b[0;34m\"hard to guess secret\"\u001b[0m\u001b[0;34m)\u001b[0m\u001b[0;34m\u001b[0m\u001b[0;34m\u001b[0m\u001b[0m\n\u001b[0;32m----> 3\u001b[0;31m \u001b[0mkey\u001b[0m\u001b[0;34m,\u001b[0m \u001b[0mblockid\u001b[0m\u001b[0;34m,\u001b[0m \u001b[0mciphertext\u001b[0m \u001b[0;34m=\u001b[0m \u001b[0mc1\u001b[0m\u001b[0;34m.\u001b[0m\u001b[0mencrypt\u001b[0m\u001b[0;34m(\u001b[0m\u001b[0;34m\"The client sends the locator to the server to store the data. If the server already has the data, it can increment the reference count if desired. If the server does not, the client uploads it. The client need not send the key to the server. (The server can validate the locator without knowing the key simply by checking the hash of the encrypted data.)\"\u001b[0m\u001b[0;34m)\u001b[0m\u001b[0;34m\u001b[0m\u001b[0;34m\u001b[0m\u001b[0m\n\u001b[0m",
      "\u001b[0;32m~/Desktop/Projects/Encryption/crypto.py\u001b[0m in \u001b[0;36mencrypt\u001b[0;34m(self, data)\u001b[0m\n\u001b[1;32m    226\u001b[0m         \u001b[0;32massert\u001b[0m\u001b[0;34m(\u001b[0m\u001b[0misinstance\u001b[0m\u001b[0;34m(\u001b[0m\u001b[0mdata\u001b[0m\u001b[0;34m,\u001b[0m \u001b[0mstr\u001b[0m\u001b[0;34m)\u001b[0m\u001b[0;34m)\u001b[0m\u001b[0;34m\u001b[0m\u001b[0;34m\u001b[0m\u001b[0m\n\u001b[1;32m    227\u001b[0m         \u001b[0mkey\u001b[0m\u001b[0;34m,\u001b[0m \u001b[0mid\u001b[0m \u001b[0;34m=\u001b[0m \u001b[0mself\u001b[0m\u001b[0;34m.\u001b[0m\u001b[0m__sec_key\u001b[0m\u001b[0;34m(\u001b[0m\u001b[0mdata\u001b[0m\u001b[0;34m)\u001b[0m\u001b[0;34m\u001b[0m\u001b[0;34m\u001b[0m\u001b[0m\n\u001b[0;32m--> 228\u001b[0;31m         \u001b[0;32mreturn\u001b[0m \u001b[0mkey\u001b[0m\u001b[0;34m,\u001b[0m \u001b[0mid\u001b[0m\u001b[0;34m,\u001b[0m \u001b[0maes\u001b[0m\u001b[0;34m(\u001b[0m\u001b[0mkey\u001b[0m\u001b[0;34m,\u001b[0m \u001b[0mdata\u001b[0m\u001b[0;34m)\u001b[0m\u001b[0;34m\u001b[0m\u001b[0;34m\u001b[0m\u001b[0m\n\u001b[0m\u001b[1;32m    229\u001b[0m \u001b[0;34m\u001b[0m\u001b[0m\n\u001b[1;32m    230\u001b[0m     \u001b[0;32mdef\u001b[0m \u001b[0mdecrypt\u001b[0m\u001b[0;34m(\u001b[0m\u001b[0mself\u001b[0m\u001b[0;34m,\u001b[0m \u001b[0mkey\u001b[0m\u001b[0;34m,\u001b[0m \u001b[0mciphertext\u001b[0m\u001b[0;34m,\u001b[0m \u001b[0mverify\u001b[0m\u001b[0;34m=\u001b[0m\u001b[0;32mFalse\u001b[0m\u001b[0;34m)\u001b[0m\u001b[0;34m:\u001b[0m\u001b[0;34m\u001b[0m\u001b[0;34m\u001b[0m\u001b[0m\n",
      "\u001b[0;32m~/Desktop/Projects/Encryption/crypto.py\u001b[0m in \u001b[0;36maes\u001b[0;34m(key, data, counter)\u001b[0m\n\u001b[1;32m    112\u001b[0m     \u001b[0;31m# ... or PyCrypto\u001b[0m\u001b[0;34m\u001b[0m\u001b[0;34m\u001b[0m\u001b[0;34m\u001b[0m\u001b[0m\n\u001b[1;32m    113\u001b[0m     \u001b[0mcounter\u001b[0m \u001b[0;34m=\u001b[0m \u001b[0mcounter\u001b[0m \u001b[0;32mor\u001b[0m \u001b[0mCounter\u001b[0m\u001b[0;34m(\u001b[0m\u001b[0;34m)\u001b[0m\u001b[0;34m\u001b[0m\u001b[0;34m\u001b[0m\u001b[0m\n\u001b[0;32m--> 114\u001b[0;31m     \u001b[0ma\u001b[0m \u001b[0;34m=\u001b[0m \u001b[0mAES\u001b[0m\u001b[0;34m.\u001b[0m\u001b[0mnew\u001b[0m\u001b[0;34m(\u001b[0m\u001b[0mkey\u001b[0m\u001b[0;34m,\u001b[0m \u001b[0mAES\u001b[0m\u001b[0;34m.\u001b[0m\u001b[0mMODE_CTR\u001b[0m\u001b[0;34m,\u001b[0m \u001b[0mcounter\u001b[0m\u001b[0;34m=\u001b[0m\u001b[0mcounter\u001b[0m\u001b[0;34m)\u001b[0m\u001b[0;34m\u001b[0m\u001b[0;34m\u001b[0m\u001b[0m\n\u001b[0m\u001b[1;32m    115\u001b[0m     \u001b[0mrest\u001b[0m \u001b[0;34m=\u001b[0m \u001b[0mlen\u001b[0m\u001b[0;34m(\u001b[0m\u001b[0mdata\u001b[0m\u001b[0;34m)\u001b[0m \u001b[0;34m%\u001b[0m \u001b[0;36m16\u001b[0m\u001b[0;34m\u001b[0m\u001b[0;34m\u001b[0m\u001b[0m\n\u001b[1;32m    116\u001b[0m     \u001b[0;32mif\u001b[0m \u001b[0;32mnot\u001b[0m \u001b[0mrest\u001b[0m\u001b[0;34m:\u001b[0m\u001b[0;34m\u001b[0m\u001b[0;34m\u001b[0m\u001b[0m\n",
      "\u001b[0;32m~/anaconda3/lib/python3.7/site-packages/Crypto/Cipher/AES.py\u001b[0m in \u001b[0;36mnew\u001b[0;34m(key, mode, *args, **kwargs)\u001b[0m\n\u001b[1;32m    230\u001b[0m \u001b[0;34m\u001b[0m\u001b[0m\n\u001b[1;32m    231\u001b[0m     \u001b[0mkwargs\u001b[0m\u001b[0;34m[\u001b[0m\u001b[0;34m\"add_aes_modes\"\u001b[0m\u001b[0;34m]\u001b[0m \u001b[0;34m=\u001b[0m \u001b[0;32mTrue\u001b[0m\u001b[0;34m\u001b[0m\u001b[0;34m\u001b[0m\u001b[0m\n\u001b[0;32m--> 232\u001b[0;31m     \u001b[0;32mreturn\u001b[0m \u001b[0m_create_cipher\u001b[0m\u001b[0;34m(\u001b[0m\u001b[0msys\u001b[0m\u001b[0;34m.\u001b[0m\u001b[0mmodules\u001b[0m\u001b[0;34m[\u001b[0m\u001b[0m__name__\u001b[0m\u001b[0;34m]\u001b[0m\u001b[0;34m,\u001b[0m \u001b[0mkey\u001b[0m\u001b[0;34m,\u001b[0m \u001b[0mmode\u001b[0m\u001b[0;34m,\u001b[0m \u001b[0;34m*\u001b[0m\u001b[0margs\u001b[0m\u001b[0;34m,\u001b[0m \u001b[0;34m**\u001b[0m\u001b[0mkwargs\u001b[0m\u001b[0;34m)\u001b[0m\u001b[0;34m\u001b[0m\u001b[0;34m\u001b[0m\u001b[0m\n\u001b[0m\u001b[1;32m    233\u001b[0m \u001b[0;34m\u001b[0m\u001b[0m\n\u001b[1;32m    234\u001b[0m \u001b[0;34m\u001b[0m\u001b[0m\n",
      "\u001b[0;32m~/anaconda3/lib/python3.7/site-packages/Crypto/Cipher/__init__.py\u001b[0m in \u001b[0;36m_create_cipher\u001b[0;34m(factory, key, mode, *args, **kwargs)\u001b[0m\n\u001b[1;32m     77\u001b[0m             \u001b[0;32mraise\u001b[0m \u001b[0mTypeError\u001b[0m\u001b[0;34m(\u001b[0m\u001b[0;34m\"IV is not meaningful for the ECB mode\"\u001b[0m\u001b[0;34m)\u001b[0m\u001b[0;34m\u001b[0m\u001b[0;34m\u001b[0m\u001b[0m\n\u001b[1;32m     78\u001b[0m \u001b[0;34m\u001b[0m\u001b[0m\n\u001b[0;32m---> 79\u001b[0;31m     \u001b[0;32mreturn\u001b[0m \u001b[0mmodes\u001b[0m\u001b[0;34m[\u001b[0m\u001b[0mmode\u001b[0m\u001b[0;34m]\u001b[0m\u001b[0;34m(\u001b[0m\u001b[0mfactory\u001b[0m\u001b[0;34m,\u001b[0m \u001b[0;34m**\u001b[0m\u001b[0mkwargs\u001b[0m\u001b[0;34m)\u001b[0m\u001b[0;34m\u001b[0m\u001b[0;34m\u001b[0m\u001b[0m\n\u001b[0m",
      "\u001b[0;32m~/anaconda3/lib/python3.7/site-packages/Crypto/Cipher/_mode_ctr.py\u001b[0m in \u001b[0;36m_create_ctr_cipher\u001b[0;34m(factory, **kwargs)\u001b[0m\n\u001b[1;32m    364\u001b[0m     \u001b[0;31m# 'counter' used to be a callable object, but now it is\u001b[0m\u001b[0;34m\u001b[0m\u001b[0;34m\u001b[0m\u001b[0;34m\u001b[0m\u001b[0m\n\u001b[1;32m    365\u001b[0m     \u001b[0;31m# just a dictionary for backward compatibility.\u001b[0m\u001b[0;34m\u001b[0m\u001b[0;34m\u001b[0m\u001b[0;34m\u001b[0m\u001b[0m\n\u001b[0;32m--> 366\u001b[0;31m     \u001b[0m_counter\u001b[0m \u001b[0;34m=\u001b[0m \u001b[0mdict\u001b[0m\u001b[0;34m(\u001b[0m\u001b[0mcounter\u001b[0m\u001b[0;34m)\u001b[0m\u001b[0;34m\u001b[0m\u001b[0;34m\u001b[0m\u001b[0m\n\u001b[0m\u001b[1;32m    367\u001b[0m     \u001b[0;32mtry\u001b[0m\u001b[0;34m:\u001b[0m\u001b[0;34m\u001b[0m\u001b[0;34m\u001b[0m\u001b[0m\n\u001b[1;32m    368\u001b[0m         \u001b[0mcounter_len\u001b[0m \u001b[0;34m=\u001b[0m \u001b[0m_counter\u001b[0m\u001b[0;34m.\u001b[0m\u001b[0mpop\u001b[0m\u001b[0;34m(\u001b[0m\u001b[0;34m\"counter_len\"\u001b[0m\u001b[0;34m)\u001b[0m\u001b[0;34m\u001b[0m\u001b[0;34m\u001b[0m\u001b[0m\n",
      "\u001b[0;31mTypeError\u001b[0m: 'Counter' object is not iterable"
     ]
    }
   ],
   "source": [
    "from crypto import ConvergentEncryption\n",
    "c1 = ConvergentEncryption(\"hard to guess secret\")\n",
    "key, blockid, ciphertext = c1.encrypt(\"The client sends the locator to the server to store the data. If the server already has the data, it can increment the reference count if desired. If the server does not, the client uploads it. The client need not send the key to the server. (The server can validate the locator without knowing the key simply by checking the hash of the encrypted data.)\")"
   ]
  },
  {
   "cell_type": "code",
   "execution_count": null,
   "metadata": {},
   "outputs": [],
   "source": []
  },
  {
   "cell_type": "code",
   "execution_count": null,
   "metadata": {},
   "outputs": [],
   "source": []
  }
 ],
 "metadata": {
  "kernelspec": {
   "display_name": "Python 3",
   "language": "python",
   "name": "python3"
  },
  "language_info": {
   "codemirror_mode": {
    "name": "ipython",
    "version": 3
   },
   "file_extension": ".py",
   "mimetype": "text/x-python",
   "name": "python",
   "nbconvert_exporter": "python",
   "pygments_lexer": "ipython3",
   "version": "3.7.9"
  }
 },
 "nbformat": 4,
 "nbformat_minor": 4
}
