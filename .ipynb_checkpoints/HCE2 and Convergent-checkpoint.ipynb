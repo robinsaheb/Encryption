{
 "cells": [
  {
   "cell_type": "code",
   "execution_count": 1,
   "metadata": {},
   "outputs": [],
   "source": [
    "import file_encryptor.convergence\n",
    "from Crypto.Hash import SHA256\n",
    "from pyce._crypto import encrypt_path, decryptf\n",
    "from crypto import ConvergentEncryption\n",
    "from hashlib import sha256"
   ]
  },
  {
   "cell_type": "code",
   "execution_count": 2,
   "metadata": {},
   "outputs": [],
   "source": [
    "#from pycryp"
   ]
  },
  {
   "cell_type": "code",
   "execution_count": 3,
   "metadata": {},
   "outputs": [],
   "source": [
    "#key = convergence.encrypt_inline_file(\"path/file\", None)"
   ]
  },
  {
   "cell_type": "code",
   "execution_count": 4,
   "metadata": {},
   "outputs": [],
   "source": [
    "text = 'There is some information in the file.'"
   ]
  },
  {
   "cell_type": "code",
   "execution_count": 5,
   "metadata": {},
   "outputs": [],
   "source": [
    "from Crypto.Cipher import AES\n",
    "from hashlib import md5\n",
    "from Crypto.Random import get_random_bytes\n",
    "from Crypto.Util.Padding import pad, unpad\n",
    "from base64 import b64encode, b64decode\n",
    "from hashlib import sha256"
   ]
  },
  {
   "cell_type": "markdown",
   "metadata": {},
   "source": [
    "### Generating Convergent Key\n",
    "Creating Symmetric Key"
   ]
  },
  {
   "cell_type": "code",
   "execution_count": 6,
   "metadata": {},
   "outputs": [],
   "source": [
    "def ConvKeyGen(hash_value):\n",
    "    # Using Crypto library\n",
    "    #key = SHA256.new()\n",
    "    \n",
    "    # Encoding the text\n",
    "    line = hash_value\n",
    "    #line = line.encode('utf-8')\n",
    "    print(line)\n",
    "    \n",
    "    # Using hashlib library\n",
    "    #key = sha256(line.encode('utf-8')).digest()\n",
    "    \n",
    "    # Making a key\n",
    "    #key.update(line)\n",
    "    #key.digest()\n",
    "    key = md5(line.encode('utf-8')).digest()\n",
    "    return key"
   ]
  },
  {
   "cell_type": "markdown",
   "metadata": {},
   "source": [
    "### Encryption using Symmetric Key\n",
    "We are using AES-CBC. Returns cipher_text, cipher_suite, and tag. "
   ]
  },
  {
   "cell_type": "code",
   "execution_count": 7,
   "metadata": {},
   "outputs": [],
   "source": [
    "from cryptography.fernet import Fernet\n",
    "def ConvEncryption(key, text_file):\n",
    "    # Generating random blocks\n",
    "    iv = get_random_bytes(AES.block_size)\n",
    "    print(\"This is iv\", iv)\n",
    "    # Creating cipher_suite for random blocks\n",
    "    cipher_suite = AES.new(key, AES.MODE_CBC, iv)\n",
    "    #cipher_suite = AES.new(key, AES.MODE_CBC)\n",
    "    \n",
    "    # Encrypting text file.\n",
    "    cipher_text = b64encode(iv + cipher_suite.encrypt(pad(text_file.encode('utf-8'), \n",
    "            AES.block_size)))\n",
    "    #cipher_text = b64encode(cipher_suite.encrypt(pad(text_file.encode('utf-8'), \n",
    "     #       AES.block_size)))\n",
    "    \n",
    "    \n",
    "    # Creating a tag\n",
    "    #cipher_text = cipher_suite.encrypt(text_file.encode('utf-8'))\n",
    "    tag = md5(cipher_text).digest()\n",
    "    return cipher_text, cipher_suite, tag\n",
    "    "
   ]
  },
  {
   "cell_type": "markdown",
   "metadata": {},
   "source": [
    "### Decryption using Symmetric Key\n",
    "Using cipher_suit from before"
   ]
  },
  {
   "cell_type": "code",
   "execution_count": 8,
   "metadata": {},
   "outputs": [],
   "source": [
    "def ConvDecryption(key, cipher_text):\n",
    "    # Creating a tag\n",
    "    tag = md5(cipher_text).digest()\n",
    "    \n",
    "    # Decrypting the data\n",
    "    raw = b64decode(cipher_text)\n",
    "    cipher_suite = AES.new(key, AES.MODE_CBC, raw[:AES.block_size])\n",
    "    #cipher_suite = AES.new(key, AES.MODE_CBC)\n",
    "    \n",
    "    plain_text = unpad(cipher_suite.decrypt(raw[AES.block_size:]), AES.block_size)\n",
    "    #plain_text = unpad(cipher_suite.decrypt(raw), AES.block_size)\n",
    "    \"\"\"\n",
    "    tag1 = sha256()\n",
    "    tag1.update(plain_text)\n",
    "    tag1.digest()\n",
    "    \n",
    "    if tag1 == tag:\n",
    "        return plain_text\n",
    "    else:\n",
    "        return \"Data is corrupted.\"\n",
    "    \"\"\"\n",
    "    \n",
    "    return plain_text"
   ]
  },
  {
   "cell_type": "code",
   "execution_count": 9,
   "metadata": {},
   "outputs": [
    {
     "name": "stdout",
     "output_type": "stream",
     "text": [
      "Now this is a ciphertext\n"
     ]
    }
   ],
   "source": [
    "key = ConvKeyGen(\"Now this is a ciphertext\")"
   ]
  },
  {
   "cell_type": "code",
   "execution_count": 10,
   "metadata": {},
   "outputs": [
    {
     "data": {
      "text/plain": [
       "b'l\\xcd\\xe9\\x91@\\x82\\xb3G\\r\\xe87a\\xdc\\xa5\\xab\\xb9'"
      ]
     },
     "execution_count": 10,
     "metadata": {},
     "output_type": "execute_result"
    }
   ],
   "source": [
    "key"
   ]
  },
  {
   "cell_type": "code",
   "execution_count": 11,
   "metadata": {},
   "outputs": [
    {
     "name": "stdout",
     "output_type": "stream",
     "text": [
      "This is iv b'(\\xd1\\x02\\xaf*\\x1c^\\xe9\\xcb\\x9b\\x8d\\x89\\xedL\\xd6\\xb8'\n"
     ]
    }
   ],
   "source": [
    "cipher_text, cipher_suite, tag = ConvEncryption(key, \"Now this is a ciphertext\")"
   ]
  },
  {
   "cell_type": "code",
   "execution_count": 12,
   "metadata": {},
   "outputs": [
    {
     "data": {
      "text/plain": [
       "b'KNECryocXunLm42J7UzWuENrksNDkG+RU2nmZSH/q3Nx2xl4vTFcHHMWb2cTeQ9X'"
      ]
     },
     "execution_count": 12,
     "metadata": {},
     "output_type": "execute_result"
    }
   ],
   "source": [
    "cipher_text"
   ]
  },
  {
   "cell_type": "code",
   "execution_count": 13,
   "metadata": {},
   "outputs": [
    {
     "data": {
      "text/plain": [
       "b'Now this is a ciphertext'"
      ]
     },
     "execution_count": 13,
     "metadata": {},
     "output_type": "execute_result"
    }
   ],
   "source": [
    "ConvDecryption(key, cipher_text)"
   ]
  },
  {
   "cell_type": "code",
   "execution_count": 14,
   "metadata": {},
   "outputs": [
    {
     "name": "stdout",
     "output_type": "stream",
     "text": [
      "Something is wrong with this please look into it and let me know. And please improve the secret key\n"
     ]
    }
   ],
   "source": [
    "key2 = ConvKeyGen(\"Something is wrong with this please look into it and let me know. And please improve the secret key\")"
   ]
  },
  {
   "cell_type": "code",
   "execution_count": null,
   "metadata": {},
   "outputs": [],
   "source": []
  },
  {
   "cell_type": "code",
   "execution_count": null,
   "metadata": {},
   "outputs": [],
   "source": []
  },
  {
   "cell_type": "code",
   "execution_count": 15,
   "metadata": {},
   "outputs": [],
   "source": [
    "class Counter(object):\n",
    "    \"\"\" 16 Byte binary counter\n",
    "    \n",
    "    Example:\n",
    "        c = Counter()\n",
    "        c() => \\00 * 16\n",
    "        c() => \\00...01\n",
    "    \"\"\"\n",
    "    \n",
    "    def __init__(self, a=0, b=0, c=0, d=0):\n",
    "        self.a = a\n",
    "        self.b = b\n",
    "        self.c = c\n",
    "        self.d = d\n",
    "        \n",
    "    first = True\n",
    "    def __call__(self):\n",
    "        if self.first:\n",
    "            self.first = False\n",
    "        else:\n",
    "            if self.d < 0xFFFFFFFF:\n",
    "                self.d += 1                     # increment byte 0\n",
    "            elif self.c < 0xFFFFFFFF:\n",
    "                self.c += 1                     # increment byte 1\n",
    "                self.d = 0                      # reset byte 0\n",
    "            elif self.b < 0xFFFFFFFF:\n",
    "                self.b += 1                     # increment byte 2\n",
    "                self.c = self.d = 0             # reset bytes 0 and 1\n",
    "            elif self.a < 0xFFFFFFFF:\n",
    "                self.a += 1                     # increment byte 3 \n",
    "                self.b = self.c = self.d = 0    # reset bytes 0, 1, 2\n",
    "        return struct.pack(\">4L\", self.a, self.b, self.c, self.d)"
   ]
  },
  {
   "cell_type": "markdown",
   "metadata": {},
   "source": [
    "## Making a Key using Hash"
   ]
  },
  {
   "cell_type": "code",
   "execution_count": 16,
   "metadata": {},
   "outputs": [],
   "source": [
    "from crypto import SHA256d\n",
    "import os, random, struct"
   ]
  },
  {
   "cell_type": "markdown",
   "metadata": {},
   "source": [
    "### Encryption using Symmetric Key\n",
    "We are using AES-CBC. Returns cipher_text, cipher_suite, and tag. "
   ]
  },
  {
   "cell_type": "code",
   "execution_count": 17,
   "metadata": {},
   "outputs": [],
   "source": [
    "def keygen(data):\n",
    "    # Need to hash the data to generate a key\n",
    "    key = sha256(data.encode('utf-8')).digest()\n",
    "    #h = SHA256d(data.encode('utf-8')).digest()\n",
    "    \n",
    "    return key"
   ]
  },
  {
   "cell_type": "markdown",
   "metadata": {},
   "source": [
    "### Decryption using Symmetric Key\n",
    "Using cipher_suit from before"
   ]
  },
  {
   "cell_type": "code",
   "execution_count": 18,
   "metadata": {},
   "outputs": [],
   "source": [
    "def encryption(key, data):\n",
    "    # AES should be in 16 bit.\n",
    "    iv = ''.join(chr(random.randint(0, 0xFF)) for i in range(16))\n",
    "\n",
    "    a = AES.new(key, AES.MODE_CBC, 'This is an IV456'.encode('utf-8'))\n",
    "    #a = AES.new(key, AES.MODE_CBC, \n",
    "    #            iv.encode('utf-8'))\n",
    "    \n",
    "    rest = len(data)%16\n",
    "    if not rest:\n",
    "        return a.encrypt(data)\n",
    "    pad = (16-rest)\n",
    "    #data += chr(pad)*pad\n",
    "    data += ' ' * (16 - len(data) % 16)\n",
    "\n",
    "    # Creating a chiphertext\n",
    "    #cipher_text = a.encrypt(data.encode(\"utf-8\"))[:-pad]\n",
    "    cipher_text = a.encrypt(data.encode(\"utf-8\"))\n",
    "    \n",
    "    # Creating a tag\n",
    "    tag = sha256(cipher_text).digest()\n",
    "    \n",
    "    return cipher_text, a, tag\n",
    "    \n",
    "    #return a.encrypt(data.encode(\"utf-8\"))[:-pad]\n",
    "    "
   ]
  },
  {
   "cell_type": "code",
   "execution_count": 19,
   "metadata": {},
   "outputs": [],
   "source": [
    "def decryption(key, cipher_text):\n",
    "    # Creating a tag\n",
    "    #tag = sha256(cipher_text).digest()\n",
    "    \n",
    "    a = AES.new(key, AES.MODE_CBC, 'This is an IV456'.encode('utf-8'))\n",
    "    plain = a.decrypt(cipher_text)\n",
    "    \n",
    "    \n",
    "    return plain\n",
    "     "
   ]
  },
  {
   "cell_type": "code",
   "execution_count": null,
   "metadata": {},
   "outputs": [],
   "source": []
  },
  {
   "cell_type": "code",
   "execution_count": 20,
   "metadata": {},
   "outputs": [
    {
     "data": {
      "text/plain": [
       "b'~s]m\\xa8\\xd6\\xca8\\x13\\xce\\x96\\xca\\x8e\\xa7\\x105\\xd5\\x80\\xb4\\x1fj\\xd5\\x0e5<AH\\x8a\\nU)\\x18'"
      ]
     },
     "execution_count": 20,
     "metadata": {},
     "output_type": "execute_result"
    }
   ],
   "source": [
    "key = keygen('The client sends the locator to the server to store the data. If the server already has the data, it can increment the reference count if desired. If the server does not, the client uploads it. The client need not send the key to the server. (The server can validate the locator without knowing the key simply by checking the hash of the encrypted data.)')\n",
    "key"
   ]
  },
  {
   "cell_type": "code",
   "execution_count": 21,
   "metadata": {
    "scrolled": false
   },
   "outputs": [],
   "source": [
    "cipher_text, a, tag = encryption(key, 'The client sends the locator to the server to store the data. If the server already has the data, it can increment the reference count if desired. If the server does not, the client uploads it. The client need not send the key to the server. (The server can validate the locator without knowing the key simply by checking the hash of the encrypted data.)')"
   ]
  },
  {
   "cell_type": "code",
   "execution_count": 22,
   "metadata": {
    "scrolled": false
   },
   "outputs": [
    {
     "data": {
      "text/plain": [
       "b'\\xbd^\\xccI\\xe4n\\r*\\x18\\xc38\\xde\\x85\\xe4 \\xa7\\xaf(\\xd0\\xb3*\\xfa\\xee\\xc9\\xd5Y\\x18U\\xf5\\xac\\x95/N\\xe3\\xa7]\\xe6\\x85\\x82Fs\\xd1v\\x1b\\x19\\x11\\xdb\\x12+2\\x13\\xde/\\xbew\\xc8\\xff\\xfa*D\\x1e\\xa4\\x17\\xc9^\\xa0WI\\xc4\\xd5\\xf5\\xb6\\x84\\x1c\\x1d I\\x11\\x02\\x1e\\x16\\x993#\\xaa\\xbd\\x9b\\xac\\xe7J\\xb0\\xd6\\xf0*\\xbdi\\xb3}\\x051Ly\\xd2NA\\x9c@\\xac4\\x80\\xb7V\\xcb\\xf6\\xac\\xd6\\xd9\\xe2W\\xcaEU\\x14?\\\\\\xdb9\\x05g\\xb9\\xa6\\xd6\\x0c\\xa8-\\x9f?ID\\xcdl\\xbd\\xd4}\\xf6Nf5\\xf5\\xc7\\x90W\\xa5\\xafG\\xa9\\x84D/\\x1eYA.\\xa1l\\x95\\x1f\\xf5{q3\\xd3\\x19\\x19}x\\xb6\\xa0\\xef\\x0fe+\\xaf\\xe1\\xf0\\xdf\\xf9O0\\x85V\\xec\\x81\\xf6v\\xfc\\x10f\\xfe\\x18Z\\xdd\\xd8\\x06\\x8f\\x94\\x85_lr\\x8e\\xcb_y\\xc90x-I\\xdbw\\x17\\xean\\xff\\t\\xe5x\\x94&\\xec\\xcb\\x84F\\x8fn\\xc3\\x08\\x06Y\\xe0s\\xdd$I\\xbd1\\x7fS\\xc9\\xda\\xdat\\xcd\\xdf\\xe1\\xc3d\\xde\\xb3\\xd0n?\\x9bk\\x92\"~\\xf1\\xc3\\x7f\\x7f/\\x82\\x17\\xd7\\x85\\x9d\\x86\\xd3\\xce\\xa4?\\xfb\\xb5U\\x19\\td\\x18\\xbd\\x81\\xc5\\x8c\\xebv%\\'\\x9a&\\xae\\x89\\n\\xe5mZZk)c\\x81\\xc6\\xd9B\\x88\\xfb\\xe3\\xc2\\x99\\x90\\xef\\xd1a\\x8e\\r\\xd8\\xae\\n,I#&(\\xcb\\xe6\\x13H\\x02+\\xe8\\xc19\\xe7\\xf0c\\xba\\xf0\\xa8\\xa5\\xb0\\x07\\x05~\\xcf\\x8e8\\xc6q\\xbd\\x83\\xbal\\xc7\\x8d\\xca\\x9a\\x9dD'"
      ]
     },
     "execution_count": 22,
     "metadata": {},
     "output_type": "execute_result"
    }
   ],
   "source": [
    "cipher_text"
   ]
  },
  {
   "cell_type": "code",
   "execution_count": 23,
   "metadata": {},
   "outputs": [
    {
     "data": {
      "text/plain": [
       "b'The client sends the locator to the server to store the data. If the server already has the data, it can increment the reference count if desired. If the server does not, the client uploads it. The client need not send the key to the server. (The server can validate the locator without knowing the key simply by checking the hash of the encrypted data.)              '"
      ]
     },
     "execution_count": 23,
     "metadata": {},
     "output_type": "execute_result"
    }
   ],
   "source": [
    "decryption(key, cipher_text)"
   ]
  },
  {
   "cell_type": "markdown",
   "metadata": {},
   "source": [
    "## Creating Hash CE2"
   ]
  },
  {
   "cell_type": "code",
   "execution_count": 24,
   "metadata": {},
   "outputs": [],
   "source": [
    "class HashCE2:\n",
    "    \n",
    "    def __init__(self):\n",
    "        self.M = M\n",
    "    \n",
    "    # Making a new hash\n",
    "    def newhash(self, M):\n",
    "        hash = SHA256.new(self.M)\n",
    "        return hash\n",
    "    \n",
    "    # Generating Key\n",
    "    def generatingKey(self, M):\n",
    "        key = hash(self.M)\n",
    "        return key\n",
    "    \n",
    "    # Encryption, generating Ciphertext\n",
    "    def encryption(self, key, M):\n",
    "        C = convergent(key, self.M)\n",
    "        # Encryption, Tag generatio\n",
    "        t = hash(key)\n",
    "        Cipher = ' '.join(C, t)\n",
    "        return Cipher\n",
    "    \n",
    "    # Decryption, getting message\n",
    "    def decryption(self, key, Cipher):\n",
    "        M1 = convergentDecrypt(Cipher, key)\n",
    "        # Generating the tag\n",
    "        Tag1 = hash(hash(M1))\n",
    "        # Checking both tags\n",
    "        if t != Tag1:\n",
    "            print(\"Messsage is Corrupted\")\n",
    "            return None\n",
    "            \n",
    "        else:\n",
    "            self.M = M1\n",
    "            return self.M\n",
    "\n",
    "        "
   ]
  },
  {
   "cell_type": "markdown",
   "metadata": {},
   "source": [
    "### Key Generation\n",
    "Key generation for HCE2 is same as that for Convergent Encryption"
   ]
  },
  {
   "cell_type": "code",
   "execution_count": 25,
   "metadata": {},
   "outputs": [],
   "source": [
    "def keygen(data):\n",
    "    # Need to hash the data to generate a key\n",
    "    key = sha256(data.encode('utf-8')).digest()\n",
    "    #h = SHA256d(data.encode('utf-8')).digest()\n",
    "    \n",
    "    return key"
   ]
  },
  {
   "cell_type": "markdown",
   "metadata": {},
   "source": [
    "### Encryption "
   ]
  },
  {
   "cell_type": "code",
   "execution_count": 26,
   "metadata": {},
   "outputs": [],
   "source": [
    "def encryptionHce(key, text):\n",
    "    cipher, a, tag = encryption(key, text)\n",
    "    tag = sha256(key).digest()\n",
    "    s = [cipher, tag]\n",
    "    \n",
    "    #Cipher = cipher + tag\n",
    "    Cipher = b''.join(s)\n",
    "    return Cipher, tag, cipher"
   ]
  },
  {
   "cell_type": "markdown",
   "metadata": {},
   "source": [
    "### Decryption "
   ]
  },
  {
   "cell_type": "code",
   "execution_count": 27,
   "metadata": {},
   "outputs": [],
   "source": [
    "import re\n",
    "def decryptionHce(cipher, key, tag, Verification = False):\n",
    "    x = b''+ tag + b'$'\n",
    "    #tag1 = str(tag)\n",
    "    #cipher1 = re.sub(tag,'',cipher)\n",
    "    cipher1 = cipher[:32]\n",
    "    tag1 = cipher[32:]\n",
    "    text = decryption(key, cipher1)\n",
    "    if Verification:\n",
    "        if tag==tag1:\n",
    "            return text\n",
    "        else:\n",
    "            return \"Data is corrupted\"\n",
    "    \n",
    "    return text\n",
    "    "
   ]
  },
  {
   "cell_type": "code",
   "execution_count": 28,
   "metadata": {},
   "outputs": [],
   "source": [
    "key = keygen(\"There is data in the house.\")"
   ]
  },
  {
   "cell_type": "code",
   "execution_count": 29,
   "metadata": {},
   "outputs": [],
   "source": [
    "Cipher, tag, original = encryptionHce(key, \"There is data in the house\")"
   ]
  },
  {
   "cell_type": "code",
   "execution_count": 30,
   "metadata": {},
   "outputs": [
    {
     "data": {
      "text/plain": [
       "b'There is data in the house      '"
      ]
     },
     "execution_count": 30,
     "metadata": {},
     "output_type": "execute_result"
    }
   ],
   "source": [
    "decryptionHce(Cipher, key, tag, Verification = True)"
   ]
  },
  {
   "cell_type": "code",
   "execution_count": 31,
   "metadata": {},
   "outputs": [
    {
     "data": {
      "text/plain": [
       "b'\\xa8\\xfbW\\x1bSQ\\xd9\\x8b\\x81}\\xd7\\x01\\\\w^\\xbd\\x0fU\\x08\\xe7\\x1c*\\xecW?\\xe6\"\\x86i\\x92\\x9a\\x979K$T\\xd4\\x80\\x8a\\xc1\\xf5v\\xe99\\xf1%\\x90\\xca\\xa6c\\x0b\\xc4\\x10\\xa3\\xe2\\xfa\\xe6\\x82\\x84\\xde\\xdc\\x8cb\\xec'"
      ]
     },
     "execution_count": 31,
     "metadata": {},
     "output_type": "execute_result"
    }
   ],
   "source": [
    "Cipher"
   ]
  },
  {
   "cell_type": "code",
   "execution_count": 32,
   "metadata": {},
   "outputs": [
    {
     "data": {
      "text/plain": [
       "b'9K$T\\xd4\\x80\\x8a\\xc1\\xf5v\\xe99\\xf1%\\x90\\xca\\xa6c\\x0b\\xc4\\x10\\xa3\\xe2\\xfa\\xe6\\x82\\x84\\xde\\xdc\\x8cb\\xec'"
      ]
     },
     "execution_count": 32,
     "metadata": {},
     "output_type": "execute_result"
    }
   ],
   "source": [
    "tag"
   ]
  },
  {
   "cell_type": "code",
   "execution_count": 33,
   "metadata": {},
   "outputs": [
    {
     "data": {
      "text/plain": [
       "b'\\xa8\\xfbW\\x1bSQ\\xd9\\x8b\\x81}\\xd7\\x01\\\\w^\\xbd\\x0fU\\x08\\xe7\\x1c*\\xecW?\\xe6\"\\x86i\\x92\\x9a\\x97'"
      ]
     },
     "execution_count": 33,
     "metadata": {},
     "output_type": "execute_result"
    }
   ],
   "source": [
    "original"
   ]
  },
  {
   "cell_type": "code",
   "execution_count": 34,
   "metadata": {},
   "outputs": [
    {
     "data": {
      "text/plain": [
       "b'\\xa8\\xfbW\\x1bSQ\\xd9\\x8b\\x81}\\xd7\\x01\\\\w^\\xbd\\x0fU\\x08\\xe7\\x1c*\\xecW?\\xe6\"\\x86i\\x92\\x9a\\x97'"
      ]
     },
     "execution_count": 34,
     "metadata": {},
     "output_type": "execute_result"
    }
   ],
   "source": [
    "Cipher[:32]"
   ]
  },
  {
   "cell_type": "code",
   "execution_count": 35,
   "metadata": {},
   "outputs": [
    {
     "data": {
      "text/plain": [
       "32"
      ]
     },
     "execution_count": 35,
     "metadata": {},
     "output_type": "execute_result"
    }
   ],
   "source": [
    "len(tag)"
   ]
  },
  {
   "cell_type": "code",
   "execution_count": null,
   "metadata": {},
   "outputs": [],
   "source": []
  }
 ],
 "metadata": {
  "kernelspec": {
   "display_name": "Python 3",
   "language": "python",
   "name": "python3"
  },
  "language_info": {
   "codemirror_mode": {
    "name": "ipython",
    "version": 3
   },
   "file_extension": ".py",
   "mimetype": "text/x-python",
   "name": "python",
   "nbconvert_exporter": "python",
   "pygments_lexer": "ipython3",
   "version": "3.7.9"
  }
 },
 "nbformat": 4,
 "nbformat_minor": 4
}
