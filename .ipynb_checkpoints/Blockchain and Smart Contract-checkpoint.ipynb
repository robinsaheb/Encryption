{
 "cells": [
  {
   "cell_type": "code",
   "execution_count": 1,
   "metadata": {},
   "outputs": [],
   "source": [
    "from web3 import Web3\n",
    "from hashlib import sha256\n",
    "import random"
   ]
  },
  {
   "cell_type": "code",
   "execution_count": 2,
   "metadata": {},
   "outputs": [],
   "source": [
    "infura_url = \"https://mainnet.infura.io/v3/abc73787a7334704974b88564ac6faa2\"\n",
    "web3 = Web3(Web3.HTTPProvider(infura_url))"
   ]
  },
  {
   "cell_type": "code",
   "execution_count": 3,
   "metadata": {},
   "outputs": [
    {
     "data": {
      "text/plain": [
       "11436859"
      ]
     },
     "execution_count": 3,
     "metadata": {},
     "output_type": "execute_result"
    }
   ],
   "source": [
    "t = web3.eth.blockNumber\n",
    "t"
   ]
  },
  {
   "cell_type": "code",
   "execution_count": 4,
   "metadata": {
    "scrolled": true
   },
   "outputs": [
    {
     "data": {
      "text/plain": [
       "AttributeDict({'difficulty': 3559921341673471,\n",
       " 'extraData': HexBytes('0x535a30312f4254432e434f4d2f0004b96c'),\n",
       " 'gasLimit': 12493799,\n",
       " 'gasUsed': 12475586,\n",
       " 'hash': HexBytes('0x2be905cf64920c3a4fba5a723e1f06bca8ca7748a7fc4d520964f11b2359842d'),\n",
       " 'logsBloom': HexBytes('0x7ea95c28ae8f3631f411ee808270e42a05c9d0a004682b0ca18b8516a5d61b0274416c255122083352e140ca31426dc06e50c0006d220643c88cc460e23cefdf1c81d004b850dfb2cd88c68841987a6680166aa502452502200288568ac1277950e250828a612600144a0b6381a0cba671a4b4ea061e1c944c509032703058080b2189cd69c032491850071ac880e05328931ceb3162933f441d93e514bacea0279e12dd042025030471679052b005b2c72d22cc6c374aeb9b6cf6193ca180e43409160a8a180482611ac0600286948f22240e1b403c0dfb725a996a4d536880467ef2332054b23004050c221696806e900b05fce85088c252c0b8262bb1a015'),\n",
       " 'miner': '0xEEa5B82B61424dF8020f5feDD81767f2d0D25Bfb',\n",
       " 'mixHash': HexBytes('0x0c29528b526cf387e91f7af3edd6f90eb2cad360bcf2a829e5fd6653fdc95e4a'),\n",
       " 'nonce': HexBytes('0x04b96c182a179005'),\n",
       " 'number': 11436859,\n",
       " 'parentHash': HexBytes('0x574a89ce56497940c2ae6bac70e4a6c26f6119180b6f522dbb5f2e3548b16198'),\n",
       " 'receiptsRoot': HexBytes('0x6009185fcd821dfff1a750d670a5461208ddb375820be1b55f61ae256d7127e8'),\n",
       " 'sha3Uncles': HexBytes('0x1dcc4de8dec75d7aab85b567b6ccd41ad312451b948a7413f0a142fd40d49347'),\n",
       " 'size': 37417,\n",
       " 'stateRoot': HexBytes('0x75571dd78faadbc34e95ef4779d990cba610e9465a37ec50e578bd3a32358e1a'),\n",
       " 'timestamp': 1607759567,\n",
       " 'totalDifficulty': 19343158241034151334311,\n",
       " 'transactions': [HexBytes('0x8c8ce3841a56a17b7fe4066a85442c8656d885df3b27cbac22f896d3e5bbd801'),\n",
       "  HexBytes('0xdb4cbfa17ecd562bd160055d7b512c0bd1575596f859b5f01b7b07c089d78e2d'),\n",
       "  HexBytes('0x7a4b61f6e2ba188a7e811db282d5fd112abf003994d1b8a9292c85a45522ab30'),\n",
       "  HexBytes('0xbfaec78e4f5e40b66ffabc92ee0d87780cf4b9ed887c883748b0d57c80afc3cd'),\n",
       "  HexBytes('0xfc6fa390f56c9406fd41558cfaf8ce213a0f5dc040d939a4ea6270df3717b910'),\n",
       "  HexBytes('0x85c3bd78ec7ed38555bedd615d86d585ff256773f7524ff43681dc9c33f85c2a'),\n",
       "  HexBytes('0xb03aa68c0ffa66631704d65be91ef43f6bf518a2ced1ebcb39a9e1bf3b65b907'),\n",
       "  HexBytes('0x0c6906b283d15ff49de2dd8f63cc8b316023471c889971565408d4ce25c31f1f'),\n",
       "  HexBytes('0x0e704d1e63629dd2d7f49bc7c3e68c6bb8d74a7d8d8eca722fec50ae13ac2018'),\n",
       "  HexBytes('0x7440ff7a36946a1c911fcbbd9071a0ebcd4bb6c9573b9ea9c6174678708352be'),\n",
       "  HexBytes('0xed05fe19e36eb026d58be793806b4663bc79c2f13e7918b6f2c866a9a12ae138'),\n",
       "  HexBytes('0x9417843dd6a0bd5a88671d05adf2c37534b54abe26b8b81229ff75c2d7694d73'),\n",
       "  HexBytes('0x1c2a8f7d5882fc3ddbf8dcd6cf6000c446876d6b6a451cfcabe14101a72acd65'),\n",
       "  HexBytes('0x6d9b483d6ea60c80bc4a4bc8f73fb24fe0118543b36c4a8e08d908186b64ca9c'),\n",
       "  HexBytes('0x53940959771f7c5b11c3102d097124497108b71fc48eb18dc7c61bde134f10c0'),\n",
       "  HexBytes('0x60eec76d59671fe423c1ef876b4a603ad9b5c6a97c546778a5420ed8cd4f44ca'),\n",
       "  HexBytes('0xe3302295806e1896138b75e6918bf295389658a2958086d426b647288115178b'),\n",
       "  HexBytes('0xb936df04c244f0ad9ceaeb3fc94f5ff414f192dc5020c1486377f4718379a2df'),\n",
       "  HexBytes('0x3e3552fe274796e5e761b7b9b393df592b54282eb6b9d185795dd9c797022090'),\n",
       "  HexBytes('0x6d8048ca907a857ea888daf5fd4c408d1b6c0153a26237bd4cde066206bcfecb'),\n",
       "  HexBytes('0x868ee3f3e1a8ae106877cd68ee879e4b605f4fccb8db3baad731a3a9e9faba09'),\n",
       "  HexBytes('0x4912af96126679b9ba46c0a5888c8c761a6df2cf4e1b2fadb9102cf3d81c142f'),\n",
       "  HexBytes('0xde0ac217ebf8c1fceb4c2c8302b97e9d6dca05063f185c2b1f1136f5c016e05c'),\n",
       "  HexBytes('0x26798f622d2f796a3c7574662493fcb0f3e5693adbf3f2cda039606574e95976'),\n",
       "  HexBytes('0x8535c57b00ba50d3e1d4b667df8579c03d50d96426c7006abab81551ed778ffe'),\n",
       "  HexBytes('0x2119e176e6733021060525de251900c4ff401d1298cc4c305156460a7348f131'),\n",
       "  HexBytes('0xb98f2a44d870ded7c0a6271e170bd6aab9d8ec501d89d5d3b9f592d7aa8ed1c6'),\n",
       "  HexBytes('0x55b546966c237fa99640ed5c1ba4180315d7509f411a1fce3b1d1fe8d9dc594a'),\n",
       "  HexBytes('0x2681e102e1860b2308c04e0165e0777d49291f61e56f52aab583757599f5cdca'),\n",
       "  HexBytes('0x83267271ae1fc076186121d4de5076db6dbbe5a23af6b1a1e6b4bb88c1ea8d0c'),\n",
       "  HexBytes('0x06fe891bb946c6fffb278ab45cfa8308d735d78c858a0e31111aee70d0a1ffc0'),\n",
       "  HexBytes('0xffd4298bb67f110f9bdd24e7d870c777e56c1ca6e130ee1c3466d7437a616cd6'),\n",
       "  HexBytes('0x9cb91e6e1ab9735e095513c08a221a8692afe3de4eab88a1494c1abc6148bd8b'),\n",
       "  HexBytes('0xa8425d51a3e1ac8ec7144917b695e5a2b1ea9ccbea968a915c046fa7d34467e1'),\n",
       "  HexBytes('0x479c713bf932f7ad68178a3e4a07bff8e8083139f9658688c03794cb90a0243f'),\n",
       "  HexBytes('0x357411a5787affb2622dd3cf55b1ccff6453cb63dc028526b2b415fca9d7b90d'),\n",
       "  HexBytes('0xfac79fe04b0f0edbbdb91d173b8c3e836d3347a9f2d263551b20b34894a119ab'),\n",
       "  HexBytes('0x0b43cd89c98b38f2b7d8c79fcc8e715ea100280d8fd9288002426ac3d274e8bb'),\n",
       "  HexBytes('0xe0f5394e5ce6f4144cc03c371b6ece55fb18c4814a0030dc1ef34ee4ef739d4a'),\n",
       "  HexBytes('0x728c8c3ef2a56351441c75ac53c1f60a712d22c4ffdfc70022065ed97f14178c'),\n",
       "  HexBytes('0x951966f104ace68f316d3b3a5f84381c2519f464739a3554c6dc0271da554c63'),\n",
       "  HexBytes('0x12747ac0ef9737721d1f771d41284b6736954cae7a5e0e2d4d9fe3821c1510a2'),\n",
       "  HexBytes('0xc6fd4fb8a3ff87a597bdffc552f27e07b5adde5072b3f653b8008b653714b850'),\n",
       "  HexBytes('0xaeb9421aafb724d8536a249aeb0c0bb0a3d89b52eda291a8db663ece939f66c7'),\n",
       "  HexBytes('0x1e56d55ef44400e2d01181ec1ed78f24685b120a65e0dd3cb8ec561f14268b15'),\n",
       "  HexBytes('0x3980e50531be69de82d35086dbddf57803e608796fa6db957e6884e9c1b1ba49'),\n",
       "  HexBytes('0x7c2e6eba13728eb4d1d9b871c6a82b99a66553a7e6b11b70949debce40687741'),\n",
       "  HexBytes('0xc2cc7eea7284d7fb058f88dd126e46e66294002b202b9033be23ac918772921f'),\n",
       "  HexBytes('0x5fb1630a08959766d351eeb72025a1e58ac26e047c3a1d82e1c6d92c49ec953e'),\n",
       "  HexBytes('0x59c0e9b050a1d175ac907f66dd0f8b721ebf69d928df090854b59e53f7e19ef5'),\n",
       "  HexBytes('0x4fdf6e8bbb6a3d923c6045d26a473fb9d479bb2e7a57687f111d6b3b48f71f8f'),\n",
       "  HexBytes('0xaeec55a025d4b4ac00f7f3baab64c292683f0416c991848f3083f2bb0fd5992f'),\n",
       "  HexBytes('0x1a714efca889c45753748e6c646b460282bfb99541cd403b0972d7021473486d'),\n",
       "  HexBytes('0x505c4c2fe477575b518609e4adcc46fb9d3df7193295a68663c7905c93db04c9'),\n",
       "  HexBytes('0xa431432c84a0a5f308bd6860127d4dd56b3189e5299e864939e5e58946493062'),\n",
       "  HexBytes('0x59d421cd105b1e4dc7240ca41bcf269c8b39575b5b66776d75fefb08b3dd75bb'),\n",
       "  HexBytes('0x29b4540e939fe86b0f4383a657fe29450f36c31dcb17a23b74d5dd952540967a'),\n",
       "  HexBytes('0x4755d17af8f13bb28d28b75806bd2d925aa0eaf5ca49d77d1deb990e6f7fc61a'),\n",
       "  HexBytes('0x8957fd22ca4344e81fd59ea2282cf2f6523933623c71d5ec29ae193ec300c135'),\n",
       "  HexBytes('0x9bd4973b9a8a7c53814a9047c329ba13c4db477ad3041f6e1ede6a9ce5be8395'),\n",
       "  HexBytes('0xcff20b43243c1dfdb3c0d0deef466d0319c11967509cfab05749b832f30c3071'),\n",
       "  HexBytes('0x8eb1708a87ea78e5ac6e5835279f0e3f4455437c6c8fcbf22218a3791428632b'),\n",
       "  HexBytes('0x38446c71a55bd007c39c325c831fedb0ae4e7e4df7c7a8840b6a6644b8b71dfa'),\n",
       "  HexBytes('0xedc75480217fe8e393d9d3a42e3941ccce2f33337a3a039db06cb435b487cefd'),\n",
       "  HexBytes('0xaa28cd6893bb7401d866c39b0129f5f0e7ebd54966b986d9e57d941229100cbc'),\n",
       "  HexBytes('0x990e44099d00bf8cb2920216f6eaefffda8836973178c0e4c00dc83194e09507'),\n",
       "  HexBytes('0x8c275aac4dd3010193728141d5a9d659f7eac5c862cf5f1a9fe728627674b9a7'),\n",
       "  HexBytes('0x075ba0a0ddaa23e3902df622d2066e0957bdcf316799fd4e48d4a970fe3d2c88'),\n",
       "  HexBytes('0x05d12a21a6ff64fcc8205a2fcc2b6ebf86a82be7b55c4f75709e95a8b4e3e16b'),\n",
       "  HexBytes('0x9d47af185e9443f4fa6f6a8617fce1d36fd6edaa42cbd3b01ecddcb74baae022'),\n",
       "  HexBytes('0xf05306a3ef950fe19cb1a012d130f57073496ce42d8d6f8c7c41c04928527ec2'),\n",
       "  HexBytes('0xe3d3e5134c828f1c7591e7405f4e6e5804445503e10b3826db5cee8a1c19dab5'),\n",
       "  HexBytes('0x3dfaf552cf6c75751943b7e8f417e7f1e99bacfcf74bee191259f285c6091f5b'),\n",
       "  HexBytes('0x0052ec14c2acc6912768be18c35d0ae8c845827aaf2f2751be6850b8ecf55dda'),\n",
       "  HexBytes('0x86fb51447f54fed4ba682b496b46c7cbc2f10ba140523f41ed75ec17582a2da0'),\n",
       "  HexBytes('0xd8ff58439ae00c2cd2866b84ee05e63641fb3065440d601521e6d7e06b088f6f'),\n",
       "  HexBytes('0x5a13614f52f5baebb2765586c6c4a673bd33c191afaa5c636fc7a39657f1475c'),\n",
       "  HexBytes('0x5322f4e345b21d8e90aaf63c69ec242a7a3da9b4322921bb80ea5ebc2467203f'),\n",
       "  HexBytes('0x0234d56afa55d3a3d3dfc8c1f6bed2d7029460c1012f5eb50cb05ad3d428819f'),\n",
       "  HexBytes('0xe32de0f8a5f5c7854a184261e210bcb8ae9a231427144225a453fb2b6de23e32'),\n",
       "  HexBytes('0xcd28691da153a362071c9f75feaf872b730607f6810617a440b95739eba52f5a'),\n",
       "  HexBytes('0x188a35ef791360cc81e49ae39611a9599ae26257222fb3d55bc7ff3bb2bba73e'),\n",
       "  HexBytes('0x0ce7f486b3126ed99ea4c1625e2b2559ddc7dea88a88e429d8c8c2bd1a1724e1'),\n",
       "  HexBytes('0xad4bd20f40f783203c32e3d538a270a9f3d7c1bdadf381aa02f6d037ac27767a'),\n",
       "  HexBytes('0x017a95b4a672f87e3327c019332bfd7bec036f6e73c95624bf2c434a832c5b78'),\n",
       "  HexBytes('0x848458597091747bc52951e6b79a3cef206b162739b6c19a2f0e5b0478018c34'),\n",
       "  HexBytes('0xbfc27207cda41341024bdb21cc0736610ea168c9044e5c5a556ce789e6307450'),\n",
       "  HexBytes('0x23d7ae35709647e69d71645cee57b16c09a0e02e9f55cf26c429231546d66613'),\n",
       "  HexBytes('0x8d1b9f24355141511c93e5968ec41bbf7338f5c4ce460df96c16a7571ff6d4ff'),\n",
       "  HexBytes('0x2914e2da98509735f1a83a9647943f2d524d71c1ed760cdd849c216ca8f88c57'),\n",
       "  HexBytes('0x86c37bac150669ae522735e93c1cfaa470aeade463ef33b27cd1bad5e38ef04b'),\n",
       "  HexBytes('0xcdb66ec37d41d4a47fab9ffe16b28581c42db7b2adca3715cf1f71d6432a71ba'),\n",
       "  HexBytes('0x3e648e2f60f73b255987a79b378b4c0a34baf324aa87656122553d57e2d06f09'),\n",
       "  HexBytes('0x69250c02c7a1f1599ee7a4ccecf786faf581635ca52d9800d30d119e1f15c041'),\n",
       "  HexBytes('0x0aa8b7e638380be9549168b122e56c1903fc91ad15d248262ad9a431ee1c86fc'),\n",
       "  HexBytes('0xf83d77b7eeebf2f0bc1c7995050bec19304e3c1d2d127183a19df084777f58d9'),\n",
       "  HexBytes('0x3ef42687c1ca42a15959818cf1b15870ff78880dc1af23f2d8acbb31049466d5'),\n",
       "  HexBytes('0x08a712b24baa7ec4c0b5ebdb0fa0b532bc954c230db49dad5a450b4c4a6b618f'),\n",
       "  HexBytes('0x5b02f6367c8192a9f90bd56474405be19e955d5c9f4b54374ed897cd20b4c32a'),\n",
       "  HexBytes('0xcc684e5c34291d6fa67385eb794e0f32eea0a9a1d3e0816ca7ab921f7dac1ee7'),\n",
       "  HexBytes('0xc6f826537b1762f1cf0527f97437a4a061058916088066b7f0fcada1165dc3de'),\n",
       "  HexBytes('0x9477b05b01f087a09643153e5cb0113cd565d83e61c8f391e84f95e453cb7ae4'),\n",
       "  HexBytes('0xdb8f7454aa31f3fbbd6d114bfe56f49e572a51b760fc1388268316d3d8a4f7ba'),\n",
       "  HexBytes('0xfbfc705b2c22637efe8e0f6e5a7a4464309a9bbdd848f73983047f8d5e493cbf'),\n",
       "  HexBytes('0x8a33c88b89b0d2eea523d911cf46efd96df1120e31b577049229bb78ee686792'),\n",
       "  HexBytes('0x8de5d17dab20202d26ad7a1d4268a498f7ab76280a471fbe4f69365cb9a42972'),\n",
       "  HexBytes('0xe237fa9254c3aa864d9a0314b3306953e4c588e07d551c71a913cdc6a7c517cf'),\n",
       "  HexBytes('0xacf107481038da1c6bca9bc29fd1e4363015017ffae148bf35ad702be81b5926'),\n",
       "  HexBytes('0xfa945ccab038cc65fd0a81849630369f0c52c6ddf91bed6e5486b1b961052d92'),\n",
       "  HexBytes('0xe81e7daa0514d0588e08d16c499b70fc232b0edc3a306929cab54742ae72e856'),\n",
       "  HexBytes('0xc0afbef08dd8973369362e63b9f5cddf4cb9b9e6b53889cf32a2cd7b7e9a0038'),\n",
       "  HexBytes('0x9d7cb9e377cc603d6f9eaeda2d7cbe2876a595e7cbae9490c63b5c7f431f083c'),\n",
       "  HexBytes('0xfde90f0fee692a0c314ac1eefeecc8a0e07c068a3fcdbacc6f3aad19823d7a8a'),\n",
       "  HexBytes('0x69363f86e7122c31fc05fdbffe1f256d075d43b421f14cf52bcccd850ef26219'),\n",
       "  HexBytes('0xfd825c668311fbb8ea340c239c1d33bd8b9c9ab8d1de0b2fff69a5a48d6b5df0'),\n",
       "  HexBytes('0x0cccb08d6bdc44a653d2675378d60751d03df141e4b0451576af7267192772f7'),\n",
       "  HexBytes('0x7a93538046f151bfd64e4ea2a170b630938e2bc7056ccba99ed21cbc01702400'),\n",
       "  HexBytes('0x7a81cd669532e2a18423b20a5a7d94aa0eb76bf7a727e85c9a52f4aa12c2865a'),\n",
       "  HexBytes('0x7baa0a36e05e0276a93b667d93a8389987a67da95e561a4964a514f1bc5268c4'),\n",
       "  HexBytes('0x73cabc4b9916c508bdb7ef451cf0c3406b8a1019b02f1ffc7e6d502e620f2c4e'),\n",
       "  HexBytes('0xd6be54538fa87b991e6b57242cfe95f3c259fdf9510725bf0badd3526172e8e3'),\n",
       "  HexBytes('0xbae713d43183a3c4114ecd7d726b8e618c8901cdbf70f457a7eb449a7924139e'),\n",
       "  HexBytes('0x03f79443826e8926bec09284a844772483ab7330170f2401f9b3149eb176bc20'),\n",
       "  HexBytes('0x6e8dcffc37507095a427bdeb65e92e5a0d96e0c2e69635fbaa52fbe1b23fd34e'),\n",
       "  HexBytes('0x20672534915af7e53e4d91d3d2a5b294247c73a24b1e480d1e87b4eb4035e01a'),\n",
       "  HexBytes('0x01ca7014961b05aec6ebab24f798bf6204f06e3ade8bd3427b841272b153d7b9'),\n",
       "  HexBytes('0xda69fca151d2200b93ada45ffa9fd52a240917731dc6ad017e695508b1ab79f2'),\n",
       "  HexBytes('0x4fd512c6d98caa226af9a695f84be0d629fbf4cea07f3e1cf4d4ec39298364d1'),\n",
       "  HexBytes('0x5c559611da26d095e1b993cfcf9f4ca37071b965426461fc89f17471e20c63d3'),\n",
       "  HexBytes('0x07be4b74171587de01980837eb098338f320f09794b3bb763d487fe94e2b557d'),\n",
       "  HexBytes('0xbb157c5f442dd8fd9160f9f0b3016e8386931671438e6d8771f3d285d800a735'),\n",
       "  HexBytes('0x7f7f2e544ba066e656dcd1dc139a691824b90803f0f960de0620828f1870d34f'),\n",
       "  HexBytes('0xf86f78118878fda0f75af63664c62224eb6c16376c964a66368ba43836caa7e0'),\n",
       "  HexBytes('0x37973520b783aa6bb7734ee2c8fb16caf9dadc723db197df431b94a589702155'),\n",
       "  HexBytes('0xbd563750689ebaf65f738765b7ed9591f36c975cb80a808ca3a4b8eb793b8e14'),\n",
       "  HexBytes('0xcc84f70bd481922953e028e4bc8a1227d8b56e91d7c38aec221e8edac2e82b5e'),\n",
       "  HexBytes('0x11d4e96eadf892a9989fe86fa23f11c64b1cd01459166f5c82807601a9109d98'),\n",
       "  HexBytes('0xb2d1fbd31b43ebfaf0fe6f619514b9d751c16a18eac88734dbc413c2ad11838a'),\n",
       "  HexBytes('0x8deef50b215381e7ea3bf44f7f441151612b98c55774701edcb7f6cf18f89b60'),\n",
       "  HexBytes('0x15aacce479d44c230acf773a606b9656a226bf06f6a3de797cc5fd9dd2d9ca12'),\n",
       "  HexBytes('0xbb26a0d3835580b094f26a7d07709685834550a490d7df1a3cb5b834511bd700'),\n",
       "  HexBytes('0x84e1ed80715f77a75f43bcb7be04418d7c67dd16eb9b5375c3108d42f63c1859'),\n",
       "  HexBytes('0xdf9f902f41097e97e338837ba1c7daa96e5086af19ba4704c6ef2c50187f9166'),\n",
       "  HexBytes('0x52da5039bc33f5476a44282ba124f6289b7adf02bb5b4d30e937b768dc41c61a'),\n",
       "  HexBytes('0x670cde71e7f46e4c3de7e79da8d56775c2a5498377069a6e60ae0c8d181849bd'),\n",
       "  HexBytes('0xfa858be49496b34f263d7229bae5e296129f1789eb311a0ad048aa74f2b436e6'),\n",
       "  HexBytes('0x2b5e1f7f5ff31d9d10765ca230f8e5fd0156add3dac12a162dcb2d60492ba0a3'),\n",
       "  HexBytes('0x28aeca0c4a6fe95d57c4df6826466e4cef8b520d7177e2c11b834383df450ac8'),\n",
       "  HexBytes('0xea1f15223ab9a6248490c3e7da0d571860415172199ff5957398827c6e5e7ba2'),\n",
       "  HexBytes('0x9a89d79fb7ceafb0ba63e3e2992a65223ed76032fbc2b674cc15c5eced474245'),\n",
       "  HexBytes('0x65732b597591efa29e43740f180eab502f4f687adda380238e0b58af9dc01ed8'),\n",
       "  HexBytes('0x56fe50b1ba96bfedc9b0d2c34a39c6a0c077599394c91ec1eb78b06a8db8b8d1'),\n",
       "  HexBytes('0xad03a59fac5a0864eb26ff22622ea82c41d918442fc65e7107ef63605fe56a36'),\n",
       "  HexBytes('0x08a76a76a7a256b2cf575972044923c8d0584d6fb23c6bd716d88eaa9f894f3b'),\n",
       "  HexBytes('0x4480c1b236fdb88be025eb02ae9001cd3821f4ff374171f5d4474081a4a1309a'),\n",
       "  HexBytes('0xf9949438d785165af38f959c3584ffec622ab8c7ee320ffacf3b127a7b0140e4'),\n",
       "  HexBytes('0xe4f9aca5b023c002412383805cecf2482316b8f2c8a2a923b9686634db62203a'),\n",
       "  HexBytes('0x1a0219da2ff1f80fd16d4789e0f78a84dd8cb9843f33cc4b9d3eb6e1dab8aee7'),\n",
       "  HexBytes('0xcc55033d231c743c6a08e67dd75fbc5e0312412ff05ad8986dddcad12a7f62e7'),\n",
       "  HexBytes('0x64209d8fded4ce29222f540c3e86e8db4bca435a7adbccbad6519c3ffc88d9ac'),\n",
       "  HexBytes('0x1a87b8d201bde988951ff4ea66614dc20125a52314d2763bc692d6bf77a38fcb'),\n",
       "  HexBytes('0x4a27c05efc8614f52ab6e0f1e97834fd3b32442a521ec1a888819dcdd9f59eeb'),\n",
       "  HexBytes('0xb6cf54635397bfe56c1d015369627aa94ef14165118d8b873a512919381d3a80'),\n",
       "  HexBytes('0x611954acab8c1379e0c7b6522c59ff7ba29bb2d48b3a56933a87da867146b452'),\n",
       "  HexBytes('0x1d108fe032ccccc60f35a7869640fecd08a05c11e2d29f69ef3a2e72c2d9e8c5'),\n",
       "  HexBytes('0x899ee8d00081e16f848977bc96ce75349622834be9e2a092c39d4276c0498fa4'),\n",
       "  HexBytes('0xca12b04a5d866c5302f5688ccedda77146d11bcd9d349f9d8367be702e6bfaed'),\n",
       "  HexBytes('0x46d20b76eb2cd071666150b86b21e8bf11679abb4de2512fa8f7dab6986ab66c'),\n",
       "  HexBytes('0x08623083fd9c930a8506e073ad8fa7386f69b370e928a77375e58383b3bc9bc4'),\n",
       "  HexBytes('0x69829820cae7c271a72138d2ccbab4fd39a073dfb844df7ca7d9918ec49e4adb'),\n",
       "  HexBytes('0x375477c6771c6ad421cac32aa95da8a3f6f6b879711548f5c1d5cb965b08d838'),\n",
       "  HexBytes('0x6c1e2fec7646899f54f169ded928266fd60f294dad0d9feb5151343df88371ea'),\n",
       "  HexBytes('0x972637146d3b777e318909539664e2086b172d7ac4a4ee042bee7d4a638a4e38'),\n",
       "  HexBytes('0x8f40cb190e67575e0fc36b58efac3780b51fe4f7620254442e4158242178efee'),\n",
       "  HexBytes('0x013f87022af359d9882895553018c78b06a9193e6de763fed230c945bc2be1aa'),\n",
       "  HexBytes('0x3517b51c2a291345a1de370785806d0e91ed2557dd361f8167dec62f0159f589'),\n",
       "  HexBytes('0x5709e46def56caa8e0b0f4f02633d0ad53286efe87ae6834427e78d8640edfb1'),\n",
       "  HexBytes('0xd6b7be932b381b7b791bcd55398392cf5a107573e1a82dfbc224278fafe74721'),\n",
       "  HexBytes('0x5a8336c13d7745aba812099db5c29ec941f286f13741322e3cc42b889499ab6e'),\n",
       "  HexBytes('0x30ca7dbd1a3f0cf5cd9754805fe32bfff71012c3f77f83e4d26f9ad9384e1db6'),\n",
       "  HexBytes('0x67218efd99d813e693baac0b7c2a9c838c1ddd6d15309b539b22ab5be002f4e0'),\n",
       "  HexBytes('0xa6b3ebc2d4ce89c445b5ad06e21b1e35bd49d5b8bd2d68580153833ea140d99f'),\n",
       "  HexBytes('0xd3edb65075a3ac29ac954c5c9bcb291f30e9303c2a088c520fa3cc916cbca9c2'),\n",
       "  HexBytes('0xc2701e9bfe00bb19f85e016fa5ab130f7077f8b2ae3d97a9d301c2412c63c86d'),\n",
       "  HexBytes('0x83d4c808a7ab7824ec464d2fb18ca11499c93c131bf35d87c05deb055c731bab')],\n",
       " 'transactionsRoot': HexBytes('0x6721de69d5d775db016b6431763d0033e6b0a6b8da534ce5156f4a5d06d5d889'),\n",
       " 'uncles': []})"
      ]
     },
     "execution_count": 4,
     "metadata": {},
     "output_type": "execute_result"
    }
   ],
   "source": [
    "web3.eth.getBlock(t)"
   ]
  },
  {
   "cell_type": "markdown",
   "metadata": {},
   "source": [
    "### Generate Random Numerical Values using Hash"
   ]
  },
  {
   "cell_type": "code",
   "execution_count": 5,
   "metadata": {},
   "outputs": [],
   "source": [
    "#key = \n",
    "def set_valued_hashfunc(x, n, k):\n",
    "    rng = random.Random(sha256(x).digest())\n",
    "    return set(rng.sample(range(n), k))"
   ]
  },
  {
   "cell_type": "code",
   "execution_count": 6,
   "metadata": {},
   "outputs": [],
   "source": [
    "key = b'~s]m\\xa8\\xd6\\xca8\\x13\\xce\\x96\\xca\\x8e\\xa7\\x105\\xd5\\x80\\xb4\\x1fj\\xd5\\x0e5<AH\\x8a\\nU)\\x18'"
   ]
  },
  {
   "cell_type": "code",
   "execution_count": 7,
   "metadata": {},
   "outputs": [],
   "source": [
    "hash1 = web3.eth.getBlock(t).hash\n",
    "random_element = set_valued_hashfunc(hash1, 10, 4)"
   ]
  },
  {
   "cell_type": "code",
   "execution_count": 8,
   "metadata": {},
   "outputs": [
    {
     "data": {
      "text/plain": [
       "{2: [4, 5], 3: [4, 5], 4: [4, 5], 5: [4, 5]}"
      ]
     },
     "execution_count": 8,
     "metadata": {},
     "output_type": "execute_result"
    }
   ],
   "source": [
    "chal = {}\n",
    "for i in random_element:\n",
    "    random_blocks = set_valued_hashfunc(hash1, 10, 2)\n",
    "    #print(random_blocks)\n",
    "    blocks = []\n",
    "    for t in random_blocks:\n",
    "        blocks.append(t)\n",
    "    chal[i] = blocks\n",
    "chal"
   ]
  },
  {
   "cell_type": "code",
   "execution_count": 9,
   "metadata": {},
   "outputs": [
    {
     "data": {
      "text/plain": [
       "{2, 3, 4, 5}"
      ]
     },
     "execution_count": 9,
     "metadata": {},
     "output_type": "execute_result"
    }
   ],
   "source": [
    "random_element"
   ]
  },
  {
   "cell_type": "markdown",
   "metadata": {},
   "source": [
    "### Making a Authentication"
   ]
  },
  {
   "cell_type": "code",
   "execution_count": 10,
   "metadata": {},
   "outputs": [],
   "source": [
    "name = 'File1'\n",
    "fileblock = 2 # File block for the each file"
   ]
  },
  {
   "cell_type": "code",
   "execution_count": 11,
   "metadata": {},
   "outputs": [],
   "source": [
    "# Generating a hash function\n",
    "data = name + str(fileblock)\n",
    "Authenticator = sha256(data.encode('utf-8')).digest()"
   ]
  },
  {
   "cell_type": "markdown",
   "metadata": {},
   "source": [
    "## Bilinear Mapping"
   ]
  },
  {
   "cell_type": "code",
   "execution_count": 12,
   "metadata": {},
   "outputs": [],
   "source": [
    "# Importing libaries \n",
    "#import bplib \n",
    "#G = bplib.BpGroup()"
   ]
  },
  {
   "cell_type": "markdown",
   "metadata": {},
   "source": [
    "## Smart Contract"
   ]
  },
  {
   "cell_type": "code",
   "execution_count": 13,
   "metadata": {},
   "outputs": [],
   "source": [
    "ganache_url = \"http://127.0.0.1:7545\"\n",
    "web4 = Web3(Web3.HTTPProvider(ganache_url))"
   ]
  },
  {
   "cell_type": "markdown",
   "metadata": {},
   "source": [
    "### Account Information  "
   ]
  },
  {
   "cell_type": "code",
   "execution_count": 14,
   "metadata": {},
   "outputs": [],
   "source": [
    "account_1 = \"0x313527dA5b276bb10e54Fb8e723Cc6D020df303f\"\n",
    "account_2 = \"0xC8b7b664D77cd028524AcbEdE7E03398b246272A\"\n",
    "\n",
    "private_key = \"a42d95551409e6af53e5230b9680d9bcdc667e25f300019ffefcfc70650aad2c\""
   ]
  },
  {
   "cell_type": "markdown",
   "metadata": {},
   "source": [
    "### Building a Transaction"
   ]
  },
  {
   "cell_type": "code",
   "execution_count": 15,
   "metadata": {},
   "outputs": [],
   "source": [
    "# Get nouce\n",
    "nouce = web4.eth.getTransactionCount(account_1)\n",
    "\n",
    "# building a transaction\n",
    "tx = {\n",
    "    'nonce':nouce,\n",
    "    'to':account_2,\n",
    "    'value':web4.toWei(1,'ether'),\n",
    "    'gas':2000000,\n",
    "    'gasPrice':web4.toWei('50','gwei')\n",
    "}"
   ]
  },
  {
   "cell_type": "markdown",
   "metadata": {},
   "source": [
    "### Signing a Transaction"
   ]
  },
  {
   "cell_type": "code",
   "execution_count": 16,
   "metadata": {},
   "outputs": [],
   "source": [
    "signed_tx = web4.eth.account.signTransaction(tx,private_key)\n",
    "\n",
    "# Getting the hash value \n",
    "hash_tx = web4.eth.sendRawTransaction(signed_tx.rawTransaction)"
   ]
  },
  {
   "cell_type": "markdown",
   "metadata": {},
   "source": [
    "### Get Hash"
   ]
  },
  {
   "cell_type": "code",
   "execution_count": 17,
   "metadata": {},
   "outputs": [
    {
     "data": {
      "text/plain": [
       "'0x07dfad088d70b7be479d94c7746e32dff2b863547173d2bd79c115e858ecf674'"
      ]
     },
     "execution_count": 17,
     "metadata": {},
     "output_type": "execute_result"
    }
   ],
   "source": [
    "transaction_hash = web4.toHex(hash_tx)\n",
    "transaction_hash"
   ]
  },
  {
   "cell_type": "markdown",
   "metadata": {},
   "source": [
    "## Writing on a Ledger"
   ]
  },
  {
   "cell_type": "markdown",
   "metadata": {},
   "source": [
    "#### We are storing the hash value into a file which will then be used to check the Auditor by the User."
   ]
  },
  {
   "cell_type": "code",
   "execution_count": null,
   "metadata": {},
   "outputs": [],
   "source": []
  }
 ],
 "metadata": {
  "kernelspec": {
   "display_name": "Python 3",
   "language": "python",
   "name": "python3"
  },
  "language_info": {
   "codemirror_mode": {
    "name": "ipython",
    "version": 3
   },
   "file_extension": ".py",
   "mimetype": "text/x-python",
   "name": "python",
   "nbconvert_exporter": "python",
   "pygments_lexer": "ipython3",
   "version": "3.7.9"
  }
 },
 "nbformat": 4,
 "nbformat_minor": 4
}
